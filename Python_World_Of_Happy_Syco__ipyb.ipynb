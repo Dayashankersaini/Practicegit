{
  "nbformat": 4,
  "nbformat_minor": 0,
  "metadata": {
    "colab": {
      "provenance": [],
      "collapsed_sections": [
        "dhPl0zzs8xW7",
        "PWmDru_oA4Za",
        "H-pbmT1QE3xt",
        "42X_SN7atLom",
        "AeAzyzqO87kx",
        "TPD_czFwWmL0",
        "HFOdF2G7YNOL",
        "Vj0l-NcNYoOa",
        "p9P77qJpae-o",
        "q1KWIkYbua8u",
        "gFdC8soEkgaZ",
        "-YU07qTydX1r",
        "Jyibq-Rwyyvi",
        "qJQJlYXftSFk"
      ],
      "toc_visible": true
    },
    "kernelspec": {
      "name": "python3",
      "display_name": "Python 3"
    },
    "language_info": {
      "name": "python"
    }
  },
  "cells": [
    {
      "cell_type": "markdown",
      "source": [
        "# Variables\n"
      ],
      "metadata": {
        "id": "dhPl0zzs8xW7"
      }
    },
    {
      "cell_type": "code",
      "source": [
        "# 1. First Position of Variables is Underscore or alphabets\n",
        "mycity = 30\n",
        "print(mycity)\n",
        "_mycity = \"Chaksu\"\n",
        "print(_mycity)"
      ],
      "metadata": {
        "id": "4pGdTJBO8-Ds"
      },
      "execution_count": null,
      "outputs": []
    },
    {
      "cell_type": "code",
      "source": [
        "# 2. Pull - remaining part of variable is letter , underscore , number\n",
        "my_city1 = \"Jaipur\"\n",
        "print(my_city1)\n",
        "\n",
        "my1 = \"chaksu\"\n",
        "print(my1)"
      ],
      "metadata": {
        "id": "bbYoHBev9hIq"
      },
      "execution_count": null,
      "outputs": []
    },
    {
      "cell_type": "code",
      "source": [
        "# 3. Case Sensitive \n",
        "my_city = \"Jaipur\"\n",
        "print(my_city)\n",
        "\n"
      ],
      "metadata": {
        "id": "n7vCjdSl9liW"
      },
      "execution_count": null,
      "outputs": []
    },
    {
      "cell_type": "code",
      "source": [
        "# 4. Variable is not contain space , any symbol\n",
        "my city = \"Jaipur\"\n",
        "print(my city)"
      ],
      "metadata": {
        "id": "j8wHhPE--EMf"
      },
      "execution_count": null,
      "outputs": []
    },
    {
      "cell_type": "code",
      "source": [
        "# 5. Good practice to make variable small letter with underscore "
      ],
      "metadata": {
        "id": "bVt5_frx_fP7"
      },
      "execution_count": null,
      "outputs": []
    },
    {
      "cell_type": "code",
      "source": [
        "# 6. To  make varibale name a void keyword of the python \n",
        "for , in , True , False , List\n",
        "\n",
        "keyword means - already reserved in python "
      ],
      "metadata": {
        "id": "if6F1813_hoZ"
      },
      "execution_count": null,
      "outputs": []
    },
    {
      "cell_type": "code",
      "source": [
        "import keyword\n",
        "print(keyword.kwlist)   "
      ],
      "metadata": {
        "id": "GSm5ClmsAPfU"
      },
      "execution_count": null,
      "outputs": []
    },
    {
      "cell_type": "markdown",
      "source": [
        " \n",
        " "
      ],
      "metadata": {
        "id": "TNaHDBqc7X0P"
      }
    },
    {
      "cell_type": "code",
      "source": [],
      "metadata": {
        "id": "OfCM7W9LAeAn"
      },
      "execution_count": null,
      "outputs": []
    },
    {
      "cell_type": "markdown",
      "source": [
        "# Data Types\n"
      ],
      "metadata": {
        "id": "PWmDru_oA4Za"
      }
    },
    {
      "cell_type": "code",
      "source": [
        "# 1 . Numerical \n",
        "  #a. integer \n",
        "      # 1,2,3.....\n",
        "  #b. Floating point numbers \n",
        "      # 1.1  ,3.1 , 4.2 , 5.6 ,.......\n",
        "  #c. Complex             in mathematics \n",
        "      # 2+3j              # 2+3i"
      ],
      "metadata": {
        "id": "tnhObxMKA97g"
      },
      "execution_count": null,
      "outputs": []
    },
    {
      "cell_type": "code",
      "source": [
        "a  = 1\n",
        "type(a)"
      ],
      "metadata": {
        "colab": {
          "base_uri": "https://localhost:8080/"
        },
        "id": "nwupb6k_BzoL",
        "outputId": "9d023f23-64f0-4169-edaa-bf9a9bfca4bd"
      },
      "execution_count": null,
      "outputs": [
        {
          "output_type": "execute_result",
          "data": {
            "text/plain": [
              "int"
            ]
          },
          "metadata": {},
          "execution_count": 22
        }
      ]
    },
    {
      "cell_type": "code",
      "source": [
        "b = 3.14\n",
        "type(b)"
      ],
      "metadata": {
        "colab": {
          "base_uri": "https://localhost:8080/"
        },
        "id": "o9ufqDnPB3ON",
        "outputId": "4c7f78d2-d2bc-45de-bee7-5de330e89fd2"
      },
      "execution_count": null,
      "outputs": [
        {
          "output_type": "execute_result",
          "data": {
            "text/plain": [
              "float"
            ]
          },
          "metadata": {},
          "execution_count": 24
        }
      ]
    },
    {
      "cell_type": "code",
      "source": [
        "c = 3+4j\n",
        "type(c)"
      ],
      "metadata": {
        "colab": {
          "base_uri": "https://localhost:8080/"
        },
        "id": "E9nCSHM7B735",
        "outputId": "27ce04b1-0daa-4730-fd6f-e189b1706691"
      },
      "execution_count": null,
      "outputs": [
        {
          "output_type": "execute_result",
          "data": {
            "text/plain": [
              "complex"
            ]
          },
          "metadata": {},
          "execution_count": 10
        }
      ]
    },
    {
      "cell_type": "code",
      "source": [
        "# 2. String\n",
        "     # text , word or sentence \n",
        "\n",
        "x = \"Hello world\"\n",
        "type(x)"
      ],
      "metadata": {
        "colab": {
          "base_uri": "https://localhost:8080/"
        },
        "id": "zQENeLTBCOWM",
        "outputId": "5f46ddc7-283e-4045-9142-751ce9c6183a"
      },
      "execution_count": null,
      "outputs": [
        {
          "output_type": "execute_result",
          "data": {
            "text/plain": [
              "str"
            ]
          },
          "metadata": {},
          "execution_count": 26
        }
      ]
    },
    {
      "cell_type": "code",
      "source": [
        "# 3. Boolean  \n",
        "     # True & False\n",
        "\n",
        "a = True\n",
        "type(a)\n",
        "b = False\n",
        "type(b)"
      ],
      "metadata": {
        "colab": {
          "base_uri": "https://localhost:8080/"
        },
        "id": "IwcJX-BADJ4m",
        "outputId": "b4132140-9c74-4ebf-df1e-3afcdaf79f27"
      },
      "execution_count": null,
      "outputs": [
        {
          "output_type": "execute_result",
          "data": {
            "text/plain": [
              "bool"
            ]
          },
          "metadata": {},
          "execution_count": 28
        }
      ]
    },
    {
      "cell_type": "code",
      "source": [
        "# 4. None Type\n",
        "\n",
        "a = None \n",
        "type(a)"
      ],
      "metadata": {
        "colab": {
          "base_uri": "https://localhost:8080/"
        },
        "id": "Rh7EJAwiDdok",
        "outputId": "1486a6f7-dbd8-442f-a801-07c5383b1f77"
      },
      "execution_count": null,
      "outputs": [
        {
          "output_type": "execute_result",
          "data": {
            "text/plain": [
              "NoneType"
            ]
          },
          "metadata": {},
          "execution_count": 29
        }
      ]
    },
    {
      "cell_type": "markdown",
      "source": [
        "# Operators\n"
      ],
      "metadata": {
        "id": "H-pbmT1QE3xt"
      }
    },
    {
      "cell_type": "code",
      "source": [
        "# 1. Arithematic Operator\n",
        "\n",
        "  #a. Addition Operator \n",
        "\n",
        "x = 24 \n",
        "y = 26\n",
        "z = x+ y\n",
        "print(z) "
      ],
      "metadata": {
        "colab": {
          "base_uri": "https://localhost:8080/"
        },
        "id": "XTG1zQBME7ty",
        "outputId": "03665819-0949-4c0d-8eea-a96dd54a78e0"
      },
      "execution_count": null,
      "outputs": [
        {
          "output_type": "stream",
          "name": "stdout",
          "text": [
            "50\n"
          ]
        }
      ]
    },
    {
      "cell_type": "code",
      "source": [
        "# b. Substraction \n",
        "x = 23\n",
        "y = 3\n",
        "z = x-y\n",
        "print(z)"
      ],
      "metadata": {
        "colab": {
          "base_uri": "https://localhost:8080/"
        },
        "id": "rI-HWHUbEK0S",
        "outputId": "6ec4d060-4ac9-4a88-9cd5-0bb5c52af1de"
      },
      "execution_count": null,
      "outputs": [
        {
          "output_type": "stream",
          "name": "stdout",
          "text": [
            "20\n"
          ]
        }
      ]
    },
    {
      "cell_type": "code",
      "source": [
        "# c. Multiplication\n",
        "x = 4\n",
        "y = 5\n",
        "z = x * y \n",
        "print(z)"
      ],
      "metadata": {
        "colab": {
          "base_uri": "https://localhost:8080/"
        },
        "id": "tXP3TwCeGI4l",
        "outputId": "e1788b87-4144-48a0-97b0-4c174f65c8b2"
      },
      "execution_count": null,
      "outputs": [
        {
          "output_type": "stream",
          "name": "stdout",
          "text": [
            "20\n"
          ]
        }
      ]
    },
    {
      "cell_type": "code",
      "source": [
        "# d. Division\n",
        "x = 50\n",
        "y = 10\n",
        "z = x/y\n",
        "print(z)"
      ],
      "metadata": {
        "colab": {
          "base_uri": "https://localhost:8080/"
        },
        "id": "WlS5J9hcGbTs",
        "outputId": "7fc8c2b9-81f0-4ecc-d95b-0412f5b47f61"
      },
      "execution_count": null,
      "outputs": [
        {
          "output_type": "stream",
          "name": "stdout",
          "text": [
            "5.0\n"
          ]
        }
      ]
    },
    {
      "cell_type": "code",
      "source": [
        "x = 50\n",
        "y = 10\n",
        "z = x//y\n",
        "print(z)"
      ],
      "metadata": {
        "colab": {
          "base_uri": "https://localhost:8080/"
        },
        "id": "-I4mabcUG_Py",
        "outputId": "517dc894-e8bf-40c3-9a10-64dde49abfee"
      },
      "execution_count": null,
      "outputs": [
        {
          "output_type": "stream",
          "name": "stdout",
          "text": [
            "5\n"
          ]
        }
      ]
    },
    {
      "cell_type": "code",
      "source": [
        "# e. Expontiation(**)\n",
        "     # means X power Y . \n",
        "x = 2\n",
        "y = 5\n",
        "z = x ** y\n",
        "print(z)"
      ],
      "metadata": {
        "colab": {
          "base_uri": "https://localhost:8080/"
        },
        "id": "EetpfXywGvvE",
        "outputId": "799b2a9d-a87c-4222-a96e-fe8efb4dea1a"
      },
      "execution_count": null,
      "outputs": [
        {
          "output_type": "stream",
          "name": "stdout",
          "text": [
            "32\n"
          ]
        }
      ]
    },
    {
      "cell_type": "code",
      "source": [
        "# f. Floor Division(//)\n",
        "# it will be give only \" Quotient\" in output in the both format (integer and float)\n",
        "x = 7\n",
        "y = 2\n",
        "z = x//y\n",
        "print(z)\n",
        "# one value are be float then output will be in \"float\" \n",
        "x = 7\n",
        "y = 2.0\n",
        "z = x//y\n",
        "print(z)"
      ],
      "metadata": {
        "colab": {
          "base_uri": "https://localhost:8080/"
        },
        "id": "8UwM4F0QH6KR",
        "outputId": "e92d48bb-f167-4ca5-9aca-ac1679c3f0be"
      },
      "execution_count": null,
      "outputs": [
        {
          "output_type": "stream",
          "name": "stdout",
          "text": [
            "3\n",
            "3.0\n"
          ]
        }
      ]
    },
    {
      "cell_type": "code",
      "source": [
        "# 2. Assignment Operator (=)\n"
      ],
      "metadata": {
        "id": "IriWlZaQIOl4"
      },
      "execution_count": null,
      "outputs": []
    },
    {
      "cell_type": "code",
      "source": [
        "# Compound Assignment operator (arithmatic + assignment)\n"
      ],
      "metadata": {
        "colab": {
          "base_uri": "https://localhost:8080/"
        },
        "id": "CBy-nHaivKNj",
        "outputId": "49781c22-0e06-4b43-c06c-9afdd326c449"
      },
      "execution_count": null,
      "outputs": [
        {
          "output_type": "stream",
          "name": "stdout",
          "text": [
            "10\n"
          ]
        }
      ]
    },
    {
      "cell_type": "code",
      "source": [
        "# Case 1 - :-  +=\n",
        "\n",
        "a = 5\n",
        "a+=5   # a = a + 5\n",
        "print(a)\n",
        "\n",
        "\n",
        "\n",
        "\n",
        "a = 5\n",
        "a=+5            # that is not a correct syntax \n",
        "print(a)"
      ],
      "metadata": {
        "colab": {
          "base_uri": "https://localhost:8080/"
        },
        "id": "dcgO8omPvkTv",
        "outputId": "df0eaf2f-56f7-43bd-9619-b9fac16ea341"
      },
      "execution_count": null,
      "outputs": [
        {
          "output_type": "stream",
          "name": "stdout",
          "text": [
            "10\n",
            "5\n"
          ]
        }
      ]
    },
    {
      "cell_type": "code",
      "source": [
        "# Case 2 :-  -=\n",
        "\n",
        "a = 20\n",
        "a-=10       # a = a-10\n",
        "print(a)"
      ],
      "metadata": {
        "colab": {
          "base_uri": "https://localhost:8080/"
        },
        "id": "sHpWOkL9v1c2",
        "outputId": "9a515b0e-7b82-4767-d912-958171c164ec"
      },
      "execution_count": null,
      "outputs": [
        {
          "output_type": "stream",
          "name": "stdout",
          "text": [
            "10\n"
          ]
        }
      ]
    },
    {
      "cell_type": "code",
      "source": [
        "# Case 3 :- *=\n",
        "\n",
        "a = 5 \n",
        "a*=10\n",
        "print(a)"
      ],
      "metadata": {
        "colab": {
          "base_uri": "https://localhost:8080/"
        },
        "id": "e5cLiK2awXez",
        "outputId": "fccc779a-1aaf-448f-9e7f-8c0948b48699"
      },
      "execution_count": null,
      "outputs": [
        {
          "output_type": "stream",
          "name": "stdout",
          "text": [
            "50\n"
          ]
        }
      ]
    },
    {
      "cell_type": "code",
      "source": [
        "# Case 4 :- /=\n",
        "\n",
        "a = 25 \n",
        "a/=5\n",
        "print(a)\n",
        "\n",
        "b = 25 \n",
        "b/=10\n",
        "print(b)"
      ],
      "metadata": {
        "colab": {
          "base_uri": "https://localhost:8080/"
        },
        "id": "p8OYfHSGv7GH",
        "outputId": "431d325c-72c1-4493-aebb-f4b1597a9be5"
      },
      "execution_count": null,
      "outputs": [
        {
          "output_type": "stream",
          "name": "stdout",
          "text": [
            "5.0\n",
            "2.5\n"
          ]
        }
      ]
    },
    {
      "cell_type": "code",
      "source": [
        "# Case 5 :- **=\n",
        "\n",
        "a = 2\n",
        "a **=5      # a = 2*2*2*2*2 \n",
        "print(a)"
      ],
      "metadata": {
        "colab": {
          "base_uri": "https://localhost:8080/"
        },
        "id": "uVU5ydLaxI-E",
        "outputId": "3f714878-53b3-44cd-cb59-6bbd736615fb"
      },
      "execution_count": null,
      "outputs": [
        {
          "output_type": "stream",
          "name": "stdout",
          "text": [
            "32\n"
          ]
        }
      ]
    },
    {
      "cell_type": "code",
      "source": [
        "# Case 6 :- //=\n",
        "\n",
        "a = 7 \n",
        "a //= 3\n",
        "print(a)"
      ],
      "metadata": {
        "colab": {
          "base_uri": "https://localhost:8080/"
        },
        "id": "2AzEknuaxUnZ",
        "outputId": "77bb6750-7fbd-4f39-b687-5446edcaf9d9"
      },
      "execution_count": null,
      "outputs": [
        {
          "output_type": "stream",
          "name": "stdout",
          "text": [
            "2\n"
          ]
        }
      ]
    },
    {
      "cell_type": "code",
      "source": [
        "# Comparison Operator \n",
        "\n",
        "  # result is in boolean - True or False\n",
        "\n"
      ],
      "metadata": {
        "id": "iSDf44ElxVMO"
      },
      "execution_count": null,
      "outputs": []
    },
    {
      "cell_type": "code",
      "source": [
        "# Case 1 :- == )(equal to )\n",
        "a = 10 \n",
        "b = 20 \n",
        "print(a == b)\n"
      ],
      "metadata": {
        "colab": {
          "base_uri": "https://localhost:8080/"
        },
        "id": "J9-3JQGBylwg",
        "outputId": "dbc53710-8e2c-42f9-e838-253672befcac"
      },
      "execution_count": null,
      "outputs": [
        {
          "output_type": "stream",
          "name": "stdout",
          "text": [
            "False\n"
          ]
        }
      ]
    },
    {
      "cell_type": "code",
      "source": [
        "# Case 2 :- != (not equal to )\n",
        "\n",
        "a = 10 \n",
        "b = 20 \n",
        "print(a != b)"
      ],
      "metadata": {
        "colab": {
          "base_uri": "https://localhost:8080/"
        },
        "id": "KWcgmkGQyuNI",
        "outputId": "bfa74d20-41f5-4b07-a8cc-7f8661b90ce7"
      },
      "execution_count": null,
      "outputs": [
        {
          "output_type": "execute_result",
          "data": {
            "text/plain": [
              "True"
            ]
          },
          "metadata": {},
          "execution_count": 12
        }
      ]
    },
    {
      "cell_type": "code",
      "source": [
        "# Case 3 :- > (greater than )\n",
        "\n",
        "a = 10 \n",
        "b = 20 \n",
        "print(b > a) "
      ],
      "metadata": {
        "colab": {
          "base_uri": "https://localhost:8080/"
        },
        "id": "ZdPociETzBII",
        "outputId": "ee6198ad-8381-47d5-ad13-72593b78a99b"
      },
      "execution_count": null,
      "outputs": [
        {
          "output_type": "stream",
          "name": "stdout",
          "text": [
            "True\n"
          ]
        }
      ]
    },
    {
      "cell_type": "code",
      "source": [
        "# Case 4 :- < (smaller than )\n",
        "\n",
        "a = 10 \n",
        "b = 20 \n",
        "print(a < b)"
      ],
      "metadata": {
        "colab": {
          "base_uri": "https://localhost:8080/"
        },
        "id": "EONcctd9zM-g",
        "outputId": "e1f287d9-8b2b-4be1-8048-69ccbf9dbf14"
      },
      "execution_count": null,
      "outputs": [
        {
          "output_type": "execute_result",
          "data": {
            "text/plain": [
              "True"
            ]
          },
          "metadata": {},
          "execution_count": 14
        }
      ]
    },
    {
      "cell_type": "code",
      "source": [
        "# Case 5 :- >= (greater than equal to )\n",
        "          # one condition will be followed \n",
        "\n",
        "a = 10 \n",
        "b = 10 \n",
        "print(a >= b) \n",
        "\n",
        "a = 20 \n",
        "b = 10 \n",
        "print(a >= b) "
      ],
      "metadata": {
        "colab": {
          "base_uri": "https://localhost:8080/"
        },
        "id": "hey6qz2GzdRs",
        "outputId": "fae3106d-725f-4fb7-beec-9e980db1f788"
      },
      "execution_count": null,
      "outputs": [
        {
          "output_type": "stream",
          "name": "stdout",
          "text": [
            "True\n",
            "True\n"
          ]
        }
      ]
    },
    {
      "cell_type": "code",
      "source": [
        " #  Case 6 :- <= (smaller than equal to )\n",
        "\n",
        "a =10\n",
        "b = 20 \n",
        "print(a<=b)"
      ],
      "metadata": {
        "colab": {
          "base_uri": "https://localhost:8080/"
        },
        "id": "lvtbCuMezdqd",
        "outputId": "480c4d55-b118-48ac-a480-d2631ed2ebf3"
      },
      "execution_count": null,
      "outputs": [
        {
          "output_type": "stream",
          "name": "stdout",
          "text": [
            "True\n"
          ]
        }
      ]
    },
    {
      "cell_type": "code",
      "source": [
        "# 3. Logical Operator \n"
      ],
      "metadata": {
        "id": "GqVtVSQ6zd9J"
      },
      "execution_count": null,
      "outputs": []
    },
    {
      "cell_type": "code",
      "source": [
        "# a. AND operator \n",
        "     # it return true  , if both statement are true  \n",
        "\n",
        "x = 20 \n",
        "print(x>2 and x >15)"
      ],
      "metadata": {
        "colab": {
          "base_uri": "https://localhost:8080/"
        },
        "id": "cPJH9dl6zeL0",
        "outputId": "050fbdd3-2abe-4e8a-8239-a1eafd3fee68"
      },
      "execution_count": null,
      "outputs": [
        {
          "output_type": "stream",
          "name": "stdout",
          "text": [
            "True\n"
          ]
        }
      ]
    },
    {
      "cell_type": "code",
      "source": [
        "# b. OR operator \n",
        "     # it return true , if one of the stetement are true \n",
        "\n",
        "x = 10 \n",
        "print(x > 5 or x > 20 )\n"
      ],
      "metadata": {
        "colab": {
          "base_uri": "https://localhost:8080/"
        },
        "id": "qT3G2wUb1CPo",
        "outputId": "879764de-d030-4372-e633-3b149d625e08"
      },
      "execution_count": null,
      "outputs": [
        {
          "output_type": "stream",
          "name": "stdout",
          "text": [
            "True\n"
          ]
        }
      ]
    },
    {
      "cell_type": "code",
      "source": [
        "# c. NOT operator \n",
        "     # it reverse the result \n",
        "\n",
        "x = 10 \n",
        "print(not(x > 5 and x < 20 ))"
      ],
      "metadata": {
        "colab": {
          "base_uri": "https://localhost:8080/"
        },
        "id": "OW6W5LGW1CpJ",
        "outputId": "ff1d8c7c-a12f-48f6-f2d9-4b7cb52f54f2"
      },
      "execution_count": null,
      "outputs": [
        {
          "output_type": "stream",
          "name": "stdout",
          "text": [
            "False\n"
          ]
        }
      ]
    },
    {
      "cell_type": "code",
      "source": [
        "# 4. Identify Operator \n",
        "     # check the memory address of two value  OR  check the value of same part of memory "
      ],
      "metadata": {
        "id": "FTVVbsDl1C6I"
      },
      "execution_count": null,
      "outputs": []
    },
    {
      "cell_type": "code",
      "source": [
        "# a. is \n",
        "\n",
        "x1 = \"Jaipur\"\n",
        "x2 = 1234\n",
        "y1 = \"Jaipur\"\n",
        "y2 = 1234\n",
        "                               # check the memory address - print(id(x1))  & print(id(y1))\n",
        "x1 is y1"
      ],
      "metadata": {
        "colab": {
          "base_uri": "https://localhost:8080/"
        },
        "id": "t3JVBi4x25Gb",
        "outputId": "c60d2e0a-ff9d-4753-f752-57b8b13a5dc5"
      },
      "execution_count": null,
      "outputs": [
        {
          "output_type": "execute_result",
          "data": {
            "text/plain": [
              "True"
            ]
          },
          "metadata": {},
          "execution_count": 22
        }
      ]
    },
    {
      "cell_type": "code",
      "source": [
        "x1 = \"Jaipur\"\n",
        "x2 = 1234\n",
        "y1 = \"Jaipur\"\n",
        "y2 = 1234\n",
        "\n",
        "print(id(x1))"
      ],
      "metadata": {
        "colab": {
          "base_uri": "https://localhost:8080/"
        },
        "id": "GFzITB1d2UO1",
        "outputId": "7a7441ba-dde2-4f31-ae01-dfc4870ed70d"
      },
      "execution_count": null,
      "outputs": [
        {
          "output_type": "stream",
          "name": "stdout",
          "text": [
            "140310329207472\n"
          ]
        }
      ]
    },
    {
      "cell_type": "code",
      "source": [
        "x1 = \"Jaipur\"\n",
        "x2 = 1234\n",
        "y1 = \"Jaipur\"\n",
        "y2 = 1234\n",
        "print(id(y1))"
      ],
      "metadata": {
        "colab": {
          "base_uri": "https://localhost:8080/"
        },
        "id": "2hbXz_w63nEH",
        "outputId": "db2e1fab-5eef-4919-c61b-9a4db1614c9c"
      },
      "execution_count": null,
      "outputs": [
        {
          "output_type": "stream",
          "name": "stdout",
          "text": [
            "140310329207472\n"
          ]
        }
      ]
    },
    {
      "cell_type": "code",
      "source": [
        "# b. is not \n",
        "\n",
        "x1 = \"Jaipur\"\n",
        "x2 = 1234\n",
        "y1 = \"Jaipur\"\n",
        "y2 = 1234\n",
        "\n",
        "x1 is not y1"
      ],
      "metadata": {
        "colab": {
          "base_uri": "https://localhost:8080/"
        },
        "id": "yg0IEqO23tzK",
        "outputId": "c6eb5951-c06a-440c-d4db-3310dba331b6"
      },
      "execution_count": null,
      "outputs": [
        {
          "output_type": "execute_result",
          "data": {
            "text/plain": [
              "False"
            ]
          },
          "metadata": {},
          "execution_count": 30
        }
      ]
    },
    {
      "cell_type": "code",
      "source": [
        "x1 = \"Jaipur\"\n",
        "y1 = 24\n",
        "x2= \"Jaipur\"\n",
        "y2 = 24\n",
        "x1 is not y1"
      ],
      "metadata": {
        "colab": {
          "base_uri": "https://localhost:8080/"
        },
        "id": "qoUn5W1x3uLF",
        "outputId": "a95eefbf-545f-4a98-c41a-acc13529a93c"
      },
      "execution_count": null,
      "outputs": [
        {
          "output_type": "execute_result",
          "data": {
            "text/plain": [
              "True"
            ]
          },
          "metadata": {},
          "execution_count": 33
        }
      ]
    },
    {
      "cell_type": "code",
      "source": [
        "x1 = \"Jaipur\"\n",
        "x2 = 1234\n",
        "y1 = \"Jaipur\"\n",
        "y2 = 1234\n",
        "\n",
        "x1 is not x2"
      ],
      "metadata": {
        "colab": {
          "base_uri": "https://localhost:8080/"
        },
        "id": "V-Dcre6l3ucZ",
        "outputId": "53e4b4ce-1d99-4525-a823-ec0db6a616c6"
      },
      "execution_count": null,
      "outputs": [
        {
          "output_type": "execute_result",
          "data": {
            "text/plain": [
              "True"
            ]
          },
          "metadata": {},
          "execution_count": 32
        }
      ]
    },
    {
      "cell_type": "code",
      "source": [
        "# 5. Membership operator \n"
      ],
      "metadata": {
        "id": "gdrqxV1A3usJ"
      },
      "execution_count": null,
      "outputs": []
    },
    {
      "cell_type": "code",
      "source": [
        "# a. In \n",
        "  # it return \"True\" if the given object present in the specified collection \n",
        " \n",
        "x1 = \"jaipur\"\n",
        "\n",
        "\"a\" in x1\n",
        "\n",
        "\"z\" in x1 \n",
        "\n"
      ],
      "metadata": {
        "colab": {
          "base_uri": "https://localhost:8080/"
        },
        "id": "UZRr6Z4b7Gx3",
        "outputId": "db77ae67-4470-4675-fae9-d58ff2401a0d"
      },
      "execution_count": null,
      "outputs": [
        {
          "output_type": "execute_result",
          "data": {
            "text/plain": [
              "False"
            ]
          },
          "metadata": {},
          "execution_count": 35
        }
      ]
    },
    {
      "cell_type": "code",
      "source": [
        "# b. Not-In \n",
        "  # it return \"True\" if the given object present in the specified collection \n",
        "\n",
        "\n",
        "x1 = \"jaipur\"\n",
        "\n",
        "\"a\" not in x1\n",
        "\n",
        "\"z\" not in x1 \n",
        "\n"
      ],
      "metadata": {
        "colab": {
          "base_uri": "https://localhost:8080/"
        },
        "id": "060-4xjR7bRP",
        "outputId": "c09c86da-a854-4fff-ba85-969e859b6269"
      },
      "execution_count": null,
      "outputs": [
        {
          "output_type": "execute_result",
          "data": {
            "text/plain": [
              "True"
            ]
          },
          "metadata": {},
          "execution_count": 38
        }
      ]
    },
    {
      "cell_type": "markdown",
      "source": [
        "\n",
        "\n",
        "```\n",
        "# This is formatted as code\n",
        "```\n",
        "\n",
        "# Modulus\n"
      ],
      "metadata": {
        "id": "42X_SN7atLom"
      }
    },
    {
      "cell_type": "code",
      "source": [
        "# Modulus = % - it show in the result is  reminder \n",
        "5 % 2 \n"
      ],
      "metadata": {
        "colab": {
          "base_uri": "https://localhost:8080/"
        },
        "id": "C6yx6_eVttXE",
        "outputId": "048131b6-5c9b-4563-b984-31b5830bcfad"
      },
      "execution_count": null,
      "outputs": [
        {
          "output_type": "execute_result",
          "data": {
            "text/plain": [
              "1"
            ]
          },
          "metadata": {},
          "execution_count": 1
        }
      ]
    },
    {
      "cell_type": "code",
      "source": [
        "x = 5\n",
        "y = 3\n",
        "z = x%y\n",
        "print(z)"
      ],
      "metadata": {
        "colab": {
          "base_uri": "https://localhost:8080/"
        },
        "id": "XR-N4Us8uAUz",
        "outputId": "ef964012-5660-49c3-cd31-aad84e3ece58"
      },
      "execution_count": null,
      "outputs": [
        {
          "output_type": "stream",
          "name": "stdout",
          "text": [
            "2\n"
          ]
        }
      ]
    },
    {
      "cell_type": "code",
      "source": [],
      "metadata": {
        "id": "Ik1TaHgz3lyo"
      },
      "execution_count": null,
      "outputs": []
    },
    {
      "cell_type": "markdown",
      "source": [
        "# Data Structure\n",
        "\n",
        "It is fundamental of programming language around which program is made \n",
        "\n",
        "    * Mutable - To change \n",
        "      :- List , Dictionary , Set \n",
        "\n",
        "    * Immutable - Not change \n",
        "      :-  String , Tuple , Number \n",
        "\n",
        "1. String❎\n",
        "2. List❎\n",
        "3. Tuple❎\n",
        "4. Sets❎\n",
        "5. Dictionary❎\n",
        "\n",
        "\n",
        "\n",
        "\n",
        "\n",
        "\n",
        "\n",
        "  \n"
      ],
      "metadata": {
        "id": "AeAzyzqO87kx"
      }
    },
    {
      "cell_type": "code",
      "source": [],
      "metadata": {
        "id": "hCKMIaubWj5E"
      },
      "execution_count": null,
      "outputs": []
    },
    {
      "cell_type": "markdown",
      "source": [
        "#  1. String❎\n",
        "\n",
        "It is sequence of character constructed by single , double \n",
        "and triple quotes.\n",
        "String is Text , word , sentence , paragraph , entire cyclopedia.\n",
        "\n",
        "  Example :- \n",
        "             my_sub = \"Machine Learning\" \n",
        "             my_sub1 = 'Deep Learning'\n",
        "             my_sub2 = '''Artificial Intelligence'''\n",
        "\n",
        "\n",
        "  ▶ Indexing :- It is represent the location of the element\n",
        "                    \n",
        "\n",
        "            ⚛ Positive Indexing :- Start from 0 and end with \"length -1\"\n",
        "                        Example:- 1 2 3 4 5 6 7 8 9 10 11 12 13 14 15 16\n",
        "                                  M A C H I N E   L  E  A  R  N  I  N  G\n",
        "                                 \n",
        "                                  \n",
        "            ⚛ Negative Indexing :- Start from -1 and end with \"-length\"\n",
        "\n",
        "                      Example:- -1-2-3-4-5-6-7-8-9-10-11-12-13-14-15-16\n",
        "                                 M A C H I N E   L  E  A  R  N  I  N  G\n",
        "\n",
        "\n",
        "  ▶ Slicing :- Grab the data upto designated point \n",
        "\n",
        "           Syntax :- Variable[ SI : EI : SS ]\n",
        "                             where:- SI - Strting Index\n",
        "                                     EI - Ending Index\n",
        "                                     SS - Step Size \n",
        "\n",
        "                         * Starting index is include \n",
        "                         * ending index is exclude\n",
        "                         * step size represent the step and direction \n",
        "                           slicing   \n",
        "\n",
        "\n",
        "\n",
        "                      Example :- my_sub = Machine Learning \n",
        "                                 my_sub[0:10:1] \n",
        "                              Output :- Machine Le\n",
        "\n",
        "  ▶ Properties of String\n",
        "\n",
        "     1. Immutability\n",
        "        \n",
        "           my_name = first_name + \" \" + last_name\n",
        "           print(my_name)\n",
        "\n",
        "     2. Conctenate \n",
        "           first_name = \"Adam\"\n",
        "           last_name = \"Gilchrist\"\n",
        "           my_name = first_name + last_name\n",
        "           print(my_name)\n",
        "\n",
        "\n",
        "  ▶ String Methods\n",
        "\n",
        "    1. Lower() :- this method used to convert the string into lowercase\n",
        "                   Example:- my_sub = \"Machine Learning\"\n",
        "                             print(my_sub.lower())\n",
        "\n",
        "    2. Upper() :- this method used to convert the string into uppercase\n",
        "                  Example:- my_sub = \"Machine Learning\"\n",
        "                            print(my_sub.upper())\n",
        "\n",
        "                \n",
        "    3. Count() :- this method used to count the character of particular \n",
        "                  string\n",
        "                   \n",
        "                  Count(Value , SI , EI)\n",
        "\n",
        "                  Example :- my_sub  = \"Machine Learning\"\n",
        "                             print(my_sub.count(\"a\" , 0 , 6))\n",
        "\n",
        "    4. Find() :- this method return the index of first \n",
        "                 occurance of character in particular string\n",
        "\n",
        "                 Find(Value , SI , EI)\n",
        "\n",
        "                 Example:-  my_sub  = \"Machine Learning\" \n",
        "                            print(my_sub.find(\"n\"))\n",
        "\n",
        "\n",
        "\n",
        "    5. Replace() :-  this method replaces the old word with new word in \n",
        "                     the entire string.\n",
        "\n",
        "                     Example:- my_sub = \"Machine Learning\"\n",
        "                               print(my_sub.replace(\" \" , \"_\"))\n",
        "\n",
        "\n",
        "\n",
        "          \n",
        "\n",
        "\n",
        "  ▶ Format String\n",
        "\n",
        "    first_name = \"Sumit \" \n",
        "    last_name = \"Aandhe\"\n",
        "    name = f\"Good Morning {first_name}{last_name}\"\n",
        "    print(name)\n",
        "\n"
      ],
      "metadata": {
        "id": "TPD_czFwWmL0"
      }
    },
    {
      "cell_type": "code",
      "source": [
        "my_sub = \"Machine Learning\" \n",
        "my_sub1 = 'Deep Learning'\n",
        "my_sub2 = '''Artificial Intelligence'''"
      ],
      "metadata": {
        "id": "XsMYB-Ns9ok3"
      },
      "execution_count": null,
      "outputs": []
    },
    {
      "cell_type": "code",
      "source": [
        "my_city = \"Jaipur\"\n",
        "type(my_city)"
      ],
      "metadata": {
        "colab": {
          "base_uri": "https://localhost:8080/"
        },
        "id": "QGsN3g3X9AL3",
        "outputId": "d156a5a6-485a-4a74-d80c-f8ca0de4eb32"
      },
      "execution_count": null,
      "outputs": [
        {
          "output_type": "execute_result",
          "data": {
            "text/plain": [
              "str"
            ]
          },
          "metadata": {},
          "execution_count": 35
        }
      ]
    },
    {
      "cell_type": "code",
      "source": [
        "my_sub = \"Machine Learning\"\n",
        "len(my_sub)"
      ],
      "metadata": {
        "colab": {
          "base_uri": "https://localhost:8080/"
        },
        "id": "h5P7jnAmAOG3",
        "outputId": "7e7446cf-2f3b-4b2c-a8b5-fc592de53b0b"
      },
      "execution_count": null,
      "outputs": [
        {
          "output_type": "execute_result",
          "data": {
            "text/plain": [
              "16"
            ]
          },
          "metadata": {},
          "execution_count": 36
        }
      ]
    },
    {
      "cell_type": "code",
      "source": [
        "my_sub = \"Machine Learning\"\n",
        "print(my_sub[0:10:1])\n",
        "\n",
        "\n",
        "my_sub = \"Machine Learning\"\n",
        "print(my_sub[0:10:2])\n",
        "\n",
        "\n",
        "my_sub = \"Machine Learning\"\n",
        "print(my_sub[0:15:3])\n",
        "\n",
        "my_sub = \"Machine Learning\"\n",
        "print(my_sub[0:16:4])\n",
        "\n",
        "my_sub = \"Machine Learning\"\n",
        "print(my_sub[5:15:5])\n",
        "\n",
        "\n",
        "my_sub = \"Machine Learning\"\n",
        "print(my_sub[0:10:-1])"
      ],
      "metadata": {
        "colab": {
          "base_uri": "https://localhost:8080/"
        },
        "id": "TK_DRCknBasA",
        "outputId": "60688e1b-36af-40e8-90f1-8da8fde370d1"
      },
      "execution_count": null,
      "outputs": [
        {
          "output_type": "stream",
          "name": "stdout",
          "text": [
            "Machine Le\n",
            "McieL\n",
            "Mheen\n",
            "MiLn\n",
            "na\n",
            "\n"
          ]
        }
      ]
    },
    {
      "cell_type": "code",
      "source": [
        "my_sub = \"Machine Learning\"\n",
        "print(my_sub[14:-14:-1])\n",
        "\n",
        "\n",
        "\n",
        "\n",
        "#-16-15-14-13-12-11-10-9-8-7 -6 -5 -4 -3 -2 -1\n",
        "# M  a  c  h  i  n  e    L e  a  r  n  i  n  g\n",
        "# 0  1  2  3  4  5  6  7 8 9 10 11 12 13 14 15 \n",
        "\n"
      ],
      "metadata": {
        "colab": {
          "base_uri": "https://localhost:8080/"
        },
        "id": "grek2EW2GL_2",
        "outputId": "528438a2-7a6b-4f38-c6de-87197285fb3c"
      },
      "execution_count": null,
      "outputs": [
        {
          "output_type": "stream",
          "name": "stdout",
          "text": [
            "ninraeL enih\n"
          ]
        }
      ]
    },
    {
      "cell_type": "code",
      "source": [
        "first_name = \"Adam \"\n",
        "last_name = \"Gilchrist\"\n",
        "my_name = first_name + last_name\n",
        "print(my_name)"
      ],
      "metadata": {
        "colab": {
          "base_uri": "https://localhost:8080/"
        },
        "id": "4QGOsBXfKPyS",
        "outputId": "3f692e6c-6b32-48c5-dd34-f86c698722f5"
      },
      "execution_count": null,
      "outputs": [
        {
          "output_type": "stream",
          "name": "stdout",
          "text": [
            "Adam Gilchrist\n"
          ]
        }
      ]
    },
    {
      "cell_type": "code",
      "source": [
        "# Lower()\n",
        "\n",
        "my_sub = \"Machine Learning\"\n",
        "print(my_sub.lower())"
      ],
      "metadata": {
        "colab": {
          "base_uri": "https://localhost:8080/"
        },
        "id": "g3-NIAVYKYX5",
        "outputId": "646bc46b-6134-491c-f32f-b7b66dad88b7"
      },
      "execution_count": null,
      "outputs": [
        {
          "output_type": "stream",
          "name": "stdout",
          "text": [
            "machine learning\n"
          ]
        }
      ]
    },
    {
      "cell_type": "code",
      "source": [
        "# Upper\n",
        "\n",
        "my_sub = \"Machine Learning\"\n",
        "print(my_sub.upper())"
      ],
      "metadata": {
        "colab": {
          "base_uri": "https://localhost:8080/"
        },
        "id": "CdyfetUDMmXz",
        "outputId": "1d0fb415-7fc3-4b59-91e6-14d227402a76"
      },
      "execution_count": null,
      "outputs": [
        {
          "output_type": "stream",
          "name": "stdout",
          "text": [
            "MACHINE LEARNING\n"
          ]
        }
      ]
    },
    {
      "cell_type": "code",
      "source": [
        "# Count \n",
        " \n",
        "my_sub  = \"Machine Learning\" \n",
        "print(my_sub.count(\"a\"))"
      ],
      "metadata": {
        "colab": {
          "base_uri": "https://localhost:8080/"
        },
        "id": "J986EpyPMvOS",
        "outputId": "dbe56a37-9d8a-4aa8-c1b8-2f45f2a53ea8"
      },
      "execution_count": null,
      "outputs": [
        {
          "output_type": "stream",
          "name": "stdout",
          "text": [
            "2\n"
          ]
        }
      ]
    },
    {
      "cell_type": "code",
      "source": [
        "# Count\n",
        "my_sub  = \"Machine Learning\" \n",
        "print(my_sub.count(\"a\" , 0 , 16))"
      ],
      "metadata": {
        "colab": {
          "base_uri": "https://localhost:8080/"
        },
        "id": "YLxKZ_DtNdfF",
        "outputId": "5430ff5b-d8a8-428f-dfde-8443ec28e098"
      },
      "execution_count": null,
      "outputs": [
        {
          "output_type": "stream",
          "name": "stdout",
          "text": [
            "2\n"
          ]
        }
      ]
    },
    {
      "cell_type": "code",
      "source": [
        "# Find \n",
        "\n",
        "my_sub  = \"Machine Learning\"\n",
        "print(my_sub.find(\"n\"))\n",
        "\n",
        "# it will find \"first Occurance\" of the given character or any\n",
        "\n",
        "my_sub  = \"Machine Learning\"\n",
        "print(my_sub.find(\"n\" , 6 , 14 ))\n",
        "\n"
      ],
      "metadata": {
        "colab": {
          "base_uri": "https://localhost:8080/"
        },
        "id": "C8TA-rMKNAjZ",
        "outputId": "8241a1c4-6ba0-44a9-e955-b459ee66aab2"
      },
      "execution_count": null,
      "outputs": [
        {
          "output_type": "stream",
          "name": "stdout",
          "text": [
            "5\n",
            "12\n"
          ]
        }
      ]
    },
    {
      "cell_type": "code",
      "source": [
        "# Replace \n",
        "my_sub = \"Machine Learning\"\n",
        "print(my_sub.replace(\" \" , \"_\"))"
      ],
      "metadata": {
        "colab": {
          "base_uri": "https://localhost:8080/"
        },
        "id": "34rG8kp5NObR",
        "outputId": "eb43d96b-e1cf-4cb9-dede-a685f6520d10"
      },
      "execution_count": null,
      "outputs": [
        {
          "output_type": "stream",
          "name": "stdout",
          "text": [
            "Machine_Learning\n"
          ]
        }
      ]
    },
    {
      "cell_type": "code",
      "source": [
        "first_name = \"Sumit \" \n",
        "last_name = \"Aandhe\"\n",
        "name = f\"Good Morning {first_name}{last_name}\"\n",
        "print(name)"
      ],
      "metadata": {
        "colab": {
          "base_uri": "https://localhost:8080/"
        },
        "id": "sFyNsSp4ORcl",
        "outputId": "94e6a632-96d9-49f6-9dbf-00d69f46c8bb"
      },
      "execution_count": null,
      "outputs": [
        {
          "output_type": "stream",
          "name": "stdout",
          "text": [
            "Good Morning Sumit Aandhe\n"
          ]
        }
      ]
    },
    {
      "cell_type": "code",
      "source": [],
      "metadata": {
        "id": "xqxW9wReQ-Gl"
      },
      "execution_count": null,
      "outputs": []
    },
    {
      "cell_type": "markdown",
      "source": [
        "# 2. List❎\n",
        "\n",
        "▶ Sequence of item \n",
        "\n",
        "▶ Unlike of string \n",
        "\n",
        "    ⚛ it is mutable\n",
        "\n",
        "▶ Constructed by square bracket[] and element is seprated by comma \n",
        "\n",
        "Example :- my_list = [1,2,3,4,5]\n",
        "\n",
        "▶ List is Homogeneous and Heterogeneous \n",
        "\n",
        "    ⚛ Homogeneous :- Similar Data Type\n",
        "    Example :- list = [1,2,3,4,5]  that all are integer\n",
        "\n",
        "    ⚛ Heterogeneous :- Different data type \n",
        "    Example :- [\"Apple\" , 2 , 3.14 , True] that are different-2 data \n",
        "    type\n",
        "\n",
        "▶ Indexing of list\n",
        "\n",
        "    ⚛ Location of item \n",
        "\n",
        "    Negative indexing -6  -5  -4  -3        -2     -1\n",
        "          Example :- [ 7 , 8 , 9,\"Apple\" , 3.14 , True]\n",
        "    Positive indexing  1   2   3   4        5      6\n",
        "\n",
        "▶ Slicing Of List \n",
        "    Grab the data upto designated point \n",
        "    \n",
        "    my_list = [SI : EI : SS]\n",
        "\n",
        "    my_list = [ 7 , 8 , 9,\"Apple\" , 3.14 . True]\n",
        "    my_list[0:5:1]\n",
        "\n",
        "▶ Properties of List  \n",
        "  1. Mutable - To Change \n",
        "  2. Concatenate - To Addition\n",
        "\n",
        "\n",
        "    Example:- list1 = [4,5,6]\n",
        "              list2 = [7,8,9]\n",
        "              my_list = list1 + list2\n",
        "              print(my_list)\n",
        "\n",
        "▶ Function Of List    \n",
        "  1. len() - this function represent the length of the list \n",
        "  2. min() - this function return minimum element of the list \n",
        "             * applied only similar data type \n",
        "\n",
        "  3. max() - this function return maxixmum element of the list\n",
        "             * applied only similar data type\n",
        "\n",
        "  4. sum() - this function return sum of the item \n",
        "             * applied only numerical data type \n",
        "\n",
        "  5. sorted() - this function return the sorted list \n",
        "                * Ascending and Descending Order \n",
        "                * applied only similar data type \n",
        "                * \"Reverse\" boolean take as a argument \n",
        "\n",
        "\n",
        "▶ List Method \n",
        "  1. Append() - this method used to append(add) the item into end of the list\n",
        "* item take as a argument\n",
        "\n",
        "                 \n",
        "                Example:- my_list = [4,7,8,9,5]\n",
        "                          my_list.append(9)\n",
        "                          print(my_list)\n",
        "\n",
        "  2. Extend() - this method used to merge the list \n",
        "                \n",
        "                Example :- my_list = [4 , 7, 8 ,9 ,12]\n",
        "                           my_list.extend([\"Apple\" , \"Banana\"])\n",
        "                           print(my_list)\n",
        "\n",
        "  3. Pop() - this method used to pop off item from the list\n",
        "* by default remove last index of the element\n",
        "* \"index number\" as an argument in the pop() \n",
        "\n",
        "                Example :- my_list = [4 , 7, 8 ,9 ,12]\n",
        "                           my_list. pop()\n",
        "                           print(my_list)\n",
        "\n",
        "  4. Remove() - this method used to remove the  item from the list\n",
        "* \"item\" and \"element\" as an argument in the remove()\n",
        "                  Example :- my_list = [4 , 7, 8 ,9 ,12]\n",
        "                           my_list.remove(9)\n",
        "                           print(my_list) \n",
        "\n",
        "  5. Count() - this method used to count the item in specified collection\n",
        "                  Example :- my_list = [4 , 7, 8 ,9 ,4,5,4,78,4,2,1,4]\n",
        "                           my_list.count(4)\n",
        "                           print(my_list)\n",
        "\n",
        "\n",
        "  6. Index() - this method used to find the index of specified item\n",
        "                    Example :- my_list = [4 , 7, 8 ,9 ,12]\n",
        "                           my_list.index(9)\n",
        "                           print(my_list) \n",
        "\n",
        "  7. sort() - this method used to sorted the list\n",
        "* by default sorted in ascending order \n",
        "* in descending order sorted , use \"reverse = True\"\n",
        "\n",
        "                          Example :- my_list = [7,8,5,2,3,9]\n",
        "                                     my_list.sort() - ascending order\n",
        "                                     print(my_list)\n",
        "                                     my_list.sort(reverse = True)\n",
        "                                     print(my_list) - Descending order\n",
        "\n",
        "\n",
        "  8. Reverse() - this method used to reverse the list \n",
        "          Example:-   my_list = [7,8,5,2,3,9]\n",
        "                      my_list.reverse()\n",
        "                      print(my_list)   \n",
        "\n",
        "\n",
        "▶ Nested List \n",
        "* list support Nesting \n",
        "* data structure with data structure \n",
        "                 \n",
        "                 Example :- list1 = [1,2,3]\n",
        "                            list2 = [4,5,6]\n",
        "                            list3 = [7,8,9]\n",
        "                            list_of_list = [list1 , list2 , list3]\n",
        "                            print(list_of_list)\n",
        "\n",
        "\n",
        "\n",
        "\n"
      ],
      "metadata": {
        "id": "HFOdF2G7YNOL"
      }
    },
    {
      "cell_type": "markdown",
      "source": [],
      "metadata": {
        "id": "lCPUAoz22U8_"
      }
    },
    {
      "cell_type": "code",
      "source": [
        "# Example of List \n",
        "# To we check \"type\" and \"length\" \n",
        "fruit_list = [\"Apple\" , \"Banana\" , \"Mango\"]\n",
        "print(type(fruit_list))\n",
        "print(len(fruit_list))"
      ],
      "metadata": {
        "colab": {
          "base_uri": "https://localhost:8080/"
        },
        "id": "hCet5p8z3ElI",
        "outputId": "627cd1b9-2764-4782-aae6-dcc1ec7f6a62"
      },
      "execution_count": null,
      "outputs": [
        {
          "output_type": "stream",
          "name": "stdout",
          "text": [
            "<class 'list'>\n",
            "3\n"
          ]
        }
      ]
    },
    {
      "cell_type": "code",
      "source": [
        "# List Indexing\n",
        "my_list = [7,8,9,\"Apple\" , 3.14 , True]\n",
        "print(my_list[3])\n",
        "print(my_list[-2])"
      ],
      "metadata": {
        "colab": {
          "base_uri": "https://localhost:8080/"
        },
        "id": "v3RST1Rj3wfN",
        "outputId": "0698f79e-f11b-47e7-e230-6d54cddd39d1"
      },
      "execution_count": null,
      "outputs": [
        {
          "output_type": "stream",
          "name": "stdout",
          "text": [
            "Apple\n",
            "3.14\n"
          ]
        }
      ]
    },
    {
      "cell_type": "code",
      "source": [
        "# Slicing of List\n",
        "\n",
        "my_list = [7 , 8 , 9,\"Apple\" , 3.14 , True]\n",
        "my_list[0:5:1]"
      ],
      "metadata": {
        "colab": {
          "base_uri": "https://localhost:8080/"
        },
        "id": "Tvfno0qp4FBO",
        "outputId": "8ca63b4e-9970-4150-9dd8-fb53516bc2da"
      },
      "execution_count": null,
      "outputs": [
        {
          "output_type": "execute_result",
          "data": {
            "text/plain": [
              "[7, 8, 9, 'Apple', 3.14]"
            ]
          },
          "metadata": {},
          "execution_count": 42
        }
      ]
    },
    {
      "cell_type": "code",
      "source": [
        "# Slicing of List\n",
        "\n",
        "# N.I. -   -6 -5  -4    -3       -2     -1 \n",
        "my_list = [7 , 8 , 9,\"Apple\" , 3.14 , True]\n",
        "# P.I. -   0   1   2    3         4      5\n",
        "my_list[5:1:-1]"
      ],
      "metadata": {
        "colab": {
          "base_uri": "https://localhost:8080/"
        },
        "id": "_JXqZ32s83jq",
        "outputId": "50465d71-7230-4f0a-af78-3074362fae2f"
      },
      "execution_count": null,
      "outputs": [
        {
          "output_type": "execute_result",
          "data": {
            "text/plain": [
              "[True, 3.14, 'Apple', 9]"
            ]
          },
          "metadata": {},
          "execution_count": 43
        }
      ]
    },
    {
      "cell_type": "code",
      "source": [
        "# Slicing of List\n",
        "\n",
        "my_list = [7 , 8 , 9,\"Apple\" , 3.14 , True]\n",
        "my_list[0:5]"
      ],
      "metadata": {
        "colab": {
          "base_uri": "https://localhost:8080/"
        },
        "id": "A_sxms-p-S3O",
        "outputId": "d9f3068f-72b5-40ce-a420-dfb9f4858d42"
      },
      "execution_count": null,
      "outputs": [
        {
          "output_type": "execute_result",
          "data": {
            "text/plain": [
              "[7, 8, 9, 'Apple', 3.14]"
            ]
          },
          "metadata": {},
          "execution_count": 44
        }
      ]
    },
    {
      "cell_type": "code",
      "source": [
        "# Slicing of List\n",
        "my_list = [7,11,13,12,14,18,19]\n",
        "print(my_list[:])\n",
        "print(my_list[2:])\n",
        "print(my_list[:5])"
      ],
      "metadata": {
        "colab": {
          "base_uri": "https://localhost:8080/"
        },
        "id": "eozdjTsJ-6Ya",
        "outputId": "99cdd661-d475-4386-cff4-bca6492aff5f"
      },
      "execution_count": null,
      "outputs": [
        {
          "output_type": "stream",
          "name": "stdout",
          "text": [
            "[7, 11, 13, 12, 14, 18, 19]\n",
            "[13, 12, 14, 18, 19]\n",
            "[7, 11, 13, 12, 14]\n"
          ]
        }
      ]
    },
    {
      "cell_type": "code",
      "source": [
        "# Example of List Properties \n",
        "list1 = [4,5,6]\n",
        "list2 = [7,8,9]\n",
        "my_list = list1 + list2\n",
        "print(my_list)"
      ],
      "metadata": {
        "colab": {
          "base_uri": "https://localhost:8080/"
        },
        "id": "rMkRBtYY_ShW",
        "outputId": "e903a162-c88b-4f52-c433-874b010c99e0"
      },
      "execution_count": null,
      "outputs": [
        {
          "output_type": "stream",
          "name": "stdout",
          "text": [
            "[4, 5, 6, 7, 8, 9]\n"
          ]
        }
      ]
    },
    {
      "cell_type": "code",
      "source": [
        "# Exapmle of List Function\n",
        "\n",
        "my_list = [4,5,6,2,1,3]\n",
        "list1 = [78,56,43,1,0]\n",
        "\n",
        "# 1. len() function\n",
        "print(len(my_list))\n",
        "\n",
        "# 2. min() function\n",
        "print(min(my_list))\n",
        "print(min(list1))\n",
        "\n",
        "# 3. max() function\n",
        "print(max(my_list))\n",
        "print(max(list1))\n",
        "\n",
        "# 4. sum() function\n",
        "print(sum(my_list))\n",
        "print(sum(list1))\n",
        "\n",
        "# 5. Sorted() function \n",
        "print(sorted(my_list))\n",
        "print(sorted(list1))\n",
        "\n",
        "     # \n",
        "\n",
        "print(sorted(my_list , reverse = True))\n",
        "print(sorted(list1 , reverse = True ))\n"
      ],
      "metadata": {
        "colab": {
          "base_uri": "https://localhost:8080/"
        },
        "id": "fs3aqmrBBaLb",
        "outputId": "2345ff9b-5e90-4b26-d895-e790cae672c7"
      },
      "execution_count": null,
      "outputs": [
        {
          "output_type": "stream",
          "name": "stdout",
          "text": [
            "6\n",
            "1\n",
            "0\n",
            "6\n",
            "78\n",
            "21\n",
            "178\n",
            "[1, 2, 3, 4, 5, 6]\n",
            "[0, 1, 43, 56, 78]\n",
            "[6, 5, 4, 3, 2, 1]\n",
            "[78, 56, 43, 1, 0]\n"
          ]
        }
      ]
    },
    {
      "cell_type": "code",
      "source": [
        "# Methods of list\n",
        "\n",
        "# 1. append() \n",
        "my_list = [4,7,8,9,5]\n",
        "my_list.append(9) \n",
        "print(my_list)\n",
        "\n",
        "# 2. Extend()\n",
        "my_list = [4,7,8,9,12] \n",
        "my_list.extend([\"apple\" , \"banana\"]) \n",
        "print(my_list)\n",
        "\n",
        "# 3. Pop()\n",
        "my_list = [4,7,8,9,12] \n",
        "my_list.pop(1)\n",
        "print(my_list)\n",
        "\n",
        "my_list.pop() \n",
        "print(my_list)\n",
        "\n",
        "my_list.pop(1)\n",
        "print(my_list)\n",
        "\n",
        "\n",
        "# 4. Remove() \n",
        "my_list = [4,7,8,9,12] \n",
        "my_list.remove(9)\n",
        "print(my_list)\n",
        "\n",
        "# 5. Count()\n",
        "my_list = [1,2,3,4,1,1,1,3,2,1,1,2,3,1]\n",
        "print(my_list.count(1))\n",
        "\n",
        "# 6. Index()\n",
        "my_list = [4,7,8,9,12] \n",
        "print(my_list.index(9))\n",
        " \n",
        "\n",
        "# 7. sort()\n",
        "\n",
        "my_list = [7,8,5,2,3,9]\n",
        "my_list.sort()\n",
        "print(my_list)\n",
        "my_list.sort(reverse = True)  # for descending order\n",
        "print(my_list)\n",
        "\n",
        "# 8. Reverse()\n",
        "\n",
        "my_list = [7,8,5,2,3,9]\n",
        "my_list.reverse()\n",
        "print(my_list)\n",
        "\n"
      ],
      "metadata": {
        "colab": {
          "base_uri": "https://localhost:8080/"
        },
        "id": "bsoOw-AwC1Nf",
        "outputId": "d09c678e-1100-4073-9a90-a1d7e389cb76"
      },
      "execution_count": null,
      "outputs": [
        {
          "output_type": "stream",
          "name": "stdout",
          "text": [
            "[4, 7, 8, 9, 5, 9]\n",
            "[4, 7, 8, 9, 12, 'apple', 'banana']\n",
            "[4, 8, 9, 12]\n",
            "[4, 8, 9]\n",
            "[4, 9]\n",
            "[4, 7, 8, 12]\n",
            "7\n",
            "3\n",
            "[2, 3, 5, 7, 8, 9]\n",
            "[9, 8, 7, 5, 3, 2]\n",
            "[9, 3, 2, 5, 8, 7]\n"
          ]
        }
      ]
    },
    {
      "cell_type": "code",
      "source": [
        "# Nested list \n",
        "\n",
        "list1 = [1,2,3] \n",
        "list2 = [4,5,6]\n",
        "list3 = [7,8,9]\n",
        "list_of_list = [list1,list2,list3]\n",
        "print(list_of_list)\n",
        "list_of_list[0][1] "
      ],
      "metadata": {
        "colab": {
          "base_uri": "https://localhost:8080/"
        },
        "id": "dy3k8yGHDzIb",
        "outputId": "179bdef8-8e88-49e3-b900-dca96934d963"
      },
      "execution_count": null,
      "outputs": [
        {
          "output_type": "stream",
          "name": "stdout",
          "text": [
            "[[1, 2, 3], [4, 5, 6], [7, 8, 9]]\n"
          ]
        },
        {
          "output_type": "execute_result",
          "data": {
            "text/plain": [
              "2"
            ]
          },
          "metadata": {},
          "execution_count": 49
        }
      ]
    },
    {
      "cell_type": "code",
      "source": [],
      "metadata": {
        "id": "Kx0EE96mYnb4"
      },
      "execution_count": null,
      "outputs": []
    },
    {
      "cell_type": "markdown",
      "source": [
        "# 3. Tuple❎\n",
        "\n",
        "\n",
        "* one type of sturucture in python \n",
        "* they are immutable means tuple cannot change\n",
        "* constructed by parenthesis () and item is seprated by comma.\n",
        "\n",
        "                    Example:- my_tuple = (1,2,3,4)\n",
        "                              type(my_tuple)\n",
        "\n",
        "\n",
        "\n",
        "\n",
        "▶ Methods of Tuple\n",
        "  1. Index() \n",
        "  2. Count()\n",
        "\n",
        "🔕Note:- Due to immutability tuple is not support following method \n",
        "\n",
        "         1. Append   2. extend  3. pop   4. remove \n",
        "\n",
        "\n",
        "▶ Multiple tuple with list \n",
        "   1. Zip() - in this function we give the multiple list as an argument and zip them together\n",
        "\n",
        "                  Example:- city_list = [\"Mohali\" , \"Kanpur\" , \"Jaipur\"]\n",
        "                            state_list = [\"Punjab\",\"U.P.\",\"Rajasthan\"]\n",
        "                            list(zip(city_list , state_list))\n",
        "\n"
      ],
      "metadata": {
        "id": "Vj0l-NcNYoOa"
      }
    },
    {
      "cell_type": "code",
      "source": [
        "# Tuple \n",
        "\n",
        "my_tuple = (1,2,3,44)\n",
        "print(type(my_tuple))\n",
        "\n",
        "my_tuple1 = 1,2,3\n",
        "print(type(my_tuple))\n",
        "\n",
        "my_tuple2 = ()\n",
        "print(type(my_tuple))\n",
        "\n",
        "my_tuple3 = (1)\n",
        "print(type(my_tuple3))\n",
        "\n",
        "my_tuple4 = (1,)\n",
        "print(type(my_tuple))\n",
        "\n",
        "\n",
        "# indexing of tuple \n",
        "\n",
        "my_tuple = (1,2,3,4,5,67,89)\n",
        "print(my_tuple[-3])\n",
        "print(my_tuple[-5])\n",
        "print(my_tuple[3])\n",
        "print(my_tuple[5])\n",
        "\n",
        "# Slicing of Tuple\n",
        "\n",
        "my_tuple = (4,5,2,3,1,8)\n",
        "print(my_tuple[1:5:1])\n",
        "\n",
        "\n",
        "                      # Methods of tuple\n",
        "# 1. Index()\n",
        "\n",
        "my_tuple = (1,2,3,4,5,6,7)\n",
        "print(my_tuple.index(2))\n",
        "\n",
        "\n",
        "# 2. Count()\n",
        "my_tuple = (1,2,3,1,2,3,1,5,1,5,1,3,1,6,1,7,1,8)\n",
        "print(my_tuple.count(1))  \n",
        "\n",
        "# Multiple tuple with list \n",
        "\n",
        "# Zip() function\n",
        "\n",
        "city_list = [\"Mohali\" , \"Kanpur\" , \"Jaipur\"]\n",
        "state_list = [\"Punjab\",\"U.P.\",\"Rajasthan\"]\n",
        "print(list(zip(city_list , state_list)))                    # 'z' of zip , in small letter , cannot be in capital letter\n",
        "                            "
      ],
      "metadata": {
        "colab": {
          "base_uri": "https://localhost:8080/"
        },
        "id": "goARPRuUXajl",
        "outputId": "fab17c1e-7ad7-49fd-bad3-71159af32bb1"
      },
      "execution_count": null,
      "outputs": [
        {
          "output_type": "stream",
          "name": "stdout",
          "text": [
            "<class 'tuple'>\n",
            "<class 'tuple'>\n",
            "<class 'tuple'>\n",
            "<class 'int'>\n",
            "<class 'tuple'>\n",
            "5\n",
            "3\n",
            "4\n",
            "67\n",
            "(5, 2, 3, 1)\n",
            "1\n",
            "8\n",
            "[('Mohali', 'Punjab'), ('Kanpur', 'U.P.'), ('Jaipur', 'Rajasthan')]\n"
          ]
        }
      ]
    },
    {
      "cell_type": "code",
      "source": [],
      "metadata": {
        "id": "c2SwLczvaeQg"
      },
      "execution_count": null,
      "outputs": []
    },
    {
      "cell_type": "markdown",
      "source": [
        "# 4. Sets❎\n",
        "\n",
        "* it is a data structure\n",
        "* it is a uunordered collection of unique element \n",
        "* their is no duplicate item \n",
        "* it is mutable\n",
        "* constructed by set()\n",
        "* non-entry set represent by curly braces {} and item is seperated by comma\n",
        "   \n",
        "         Example:- my_set = {4,5,6,7,8}\n",
        "                   empty_set = set()\n",
        "\n",
        "                   \n",
        "🔕 Note: -\n",
        "\n",
        "           empty_set = set()\n",
        "\n",
        "           empty_list = []\n",
        "\n",
        "           empty_tuple = ()\n",
        "\n",
        "           empty_dict = {}\n",
        "\n",
        "\n",
        "▶ Methods of set\n",
        "  1. add() - used to add item in the set \n",
        "  2. update() - used for add multiple item in a set\n",
        "  3. remove() - used to remove the item \n",
        "  4. Union() - print all the element in the sets , but does not allow repeat element\n",
        "  5. intersection() - print the common element in the \"both\" sets \n",
        "  6. difference() - remove completely in one set of other set \n",
        "  7. Symmetric difference(^) - remove intersection part\n",
        "\n"
      ],
      "metadata": {
        "id": "p9P77qJpae-o"
      }
    },
    {
      "cell_type": "code",
      "source": [
        "# Set \n",
        "\n",
        "my_list = [4,5,4,6,4,5,7,8,9,6]\n",
        "print(set(my_list))\n",
        "\n",
        "\n",
        "# Set not contain mutable item \n",
        "'''my_set = {4,5,6,7,[8,9]}\n",
        "print(my_set) \n",
        "'''\n",
        "# set contain immutable item \n",
        "my_set = {4,5,6,7,(8,9)}\n",
        "print(my_set) \n",
        "\n",
        "             # methods of sets \n",
        "# 1. add()\n",
        "\n",
        "my_set = set()\n",
        "my_set.add('a')\n",
        "print(my_set)\n",
        "\n",
        "my_set.add('b')\n",
        "print(my_set)\n",
        "\n",
        "\n",
        "# 2. update()\n",
        "\n",
        "my_set = {4,5,6,7,8}\n",
        "my_set.update([1,2,3,4])\n",
        "print(my_set)\n",
        "\n",
        "# 3. Remove()\n",
        "\n",
        "my_set = {4,5,6,7,8}\n",
        "my_set.remove(8)\n",
        "print(my_set)\n",
        "\n",
        "\n",
        "\n",
        "# 4. Union() \n",
        "# union represent by \" | \" \n",
        "\n",
        "a = {1,2,3,4,5}\n",
        "b = {4,5,6,7,8}\n",
        "print(a.union(b))\n",
        "print(a|b)\n",
        "\n",
        "\n",
        "# 5. Intersection() \n",
        "# represent by \" & \"\n",
        "\n",
        "a = {1,2,3,4,5}\n",
        "b = {4,5,6,7,8}\n",
        "print(a.intersection(b))\n",
        "print(a&b)\n",
        "\n",
        "# 6. Difference()\n",
        "# represent by \" - \"\n",
        "a = {1,2,3,4,5}\n",
        "b = {4,5,6,7,8}\n",
        "print(a.difference(b))\n",
        "print(a-b)\n",
        "print(b-a)\n",
        "\n",
        "# 7. Symmetric difference \n",
        "# represent by \" ^ \"\n",
        "\n",
        "a = {1,2,3,4,5}\n",
        "b = {4,5,6,7,8}\n",
        "print(a.symmetric_difference(b))\n",
        "print(a^b)\n",
        "\n"
      ],
      "metadata": {
        "colab": {
          "base_uri": "https://localhost:8080/"
        },
        "id": "D2ZgggA5Hcag",
        "outputId": "a0bf297a-d361-4321-c7c8-9d009879956e"
      },
      "execution_count": null,
      "outputs": [
        {
          "output_type": "stream",
          "name": "stdout",
          "text": [
            "{4, 5, 6, 7, 8, 9}\n",
            "{(8, 9), 4, 5, 6, 7}\n",
            "{'a'}\n",
            "{'a', 'b'}\n",
            "{1, 2, 3, 4, 5, 6, 7, 8}\n",
            "{4, 5, 6, 7}\n",
            "{1, 2, 3, 4, 5, 6, 7, 8}\n",
            "{1, 2, 3, 4, 5, 6, 7, 8}\n",
            "{4, 5}\n",
            "{4, 5}\n",
            "{1, 2, 3}\n",
            "{1, 2, 3}\n",
            "{8, 6, 7}\n",
            "{1, 2, 3, 6, 7, 8}\n",
            "{1, 2, 3, 6, 7, 8}\n"
          ]
        }
      ]
    },
    {
      "cell_type": "markdown",
      "source": [
        "#  Dictionary❎\n",
        "\n",
        "* Dictionary is a collection of \"key-value\" pair\n",
        "* constructed by curlybraces {}\n",
        "      Example :- { key1 : value1 , key2 : value2}\n",
        "* key and value is seprated by colon \n",
        "* item are seprated by commas\n",
        "\n",
        "▶ Methods od Dictionary \n",
        "1. keys() - this method used to extract the keys of dictionary\n",
        "\n",
        "                Example:- my_dict = {\"U.P.\" : \"Luck\" , \"Raj\" : \"Jaipur\"}\n",
        "                          list(my_dict.keys())\n",
        "\n",
        "2. values() - this method used to extract the values of dictionary \n",
        "\n",
        "                Example:- my_dict = {\"U.P.\" : \"Luck\" , \"Raj\" : \"Jaipur\"}\n",
        "                          list(my_dict.values())\n",
        "\n",
        "3. Items() - used to extract the keys and values \n",
        "                Example:- my_dict = {\"U.P.\" : \"Luck\" , \"Raj\" : \"Jaipur\"}\n",
        "                          list(my_dict.items())\n",
        "\n",
        "4. Get() - in this method , we give key as a argument and return the value of respective key \n",
        "* if key is not found then return \"None\"\n",
        "                Example:-my_dict = {\"U.P.\" : \"Luck\" , \"Raj\" : \"Jaipur\"} \n",
        "                         print(my_dict.get(\"Raj\"))\n",
        "                         print(my_dict.get(\"H.P.\"))\n",
        "\n",
        "\n",
        "5. Update() - used to update the dictionary \n",
        "               Example:- my_dict = {\"U.P.\" : \"Luck\" , \"Raj\" : \"Jaipur\"} \n",
        "                         my_dict.update({\"Guj\":\"Ahmda\"})\n",
        "                         print(my_dict)\n",
        "\n",
        "\n",
        "6. Zip() - this function take multiple list as an argument.\n",
        "                Example:-state_list = [\"UP\" , \"HP\" , \"KAR\"]\n",
        "                         River_list = [\"Ganga\" , \"Bias\" , \"Krishna\"]\n",
        "                         dict(zip(state_list , River_list))\n",
        "                \n",
        "\n"
      ],
      "metadata": {
        "id": "q1KWIkYbua8u"
      }
    },
    {
      "cell_type": "code",
      "source": [
        "my_dict = {\"U.P.\" : \"Lucknow\" , \"Rajasthan\" : \"Jaipur\"}\n",
        "type(my_dict)\n",
        "print(my_dict)"
      ],
      "metadata": {
        "colab": {
          "base_uri": "https://localhost:8080/"
        },
        "id": "WPNIj7KNKGk4",
        "outputId": "2c73778a-72ca-426a-96e2-cb60c2d2b45d"
      },
      "execution_count": null,
      "outputs": [
        {
          "output_type": "stream",
          "name": "stdout",
          "text": [
            "{'U.P.': 'Lucknow', 'Rajasthan': 'Jaipur'}\n"
          ]
        }
      ]
    },
    {
      "cell_type": "code",
      "source": [
        "my_dict = {\"U.P.\" : \"Lucknow\" , \"Rajasthan\" : \"Jaipur\"}\n",
        "print(my_dict[\"U.P.\"])\n",
        "print(my_dict[\"Rajasthan\"])"
      ],
      "metadata": {
        "colab": {
          "base_uri": "https://localhost:8080/"
        },
        "id": "mBf7G32CZLNC",
        "outputId": "c9a4b47c-1779-41a7-99cc-d5b740152ab2"
      },
      "execution_count": null,
      "outputs": [
        {
          "output_type": "stream",
          "name": "stdout",
          "text": [
            "Lucknow\n",
            "Jaipur\n"
          ]
        }
      ]
    },
    {
      "cell_type": "code",
      "source": [
        "                     # Methods of Dictionary \n",
        "# 1. keys()\n",
        "my_dict = {\"U.P.\" : \"Lucknow\" , \"Rajasthan\" : \"Jaipur\"}\n",
        "list(my_dict.keys())\n"
      ],
      "metadata": {
        "colab": {
          "base_uri": "https://localhost:8080/"
        },
        "id": "NQ6wK8wpZ296",
        "outputId": "177081a4-3170-4292-da31-effa1eb6d8e8"
      },
      "execution_count": null,
      "outputs": [
        {
          "output_type": "execute_result",
          "data": {
            "text/plain": [
              "['U.P.', 'Rajasthan']"
            ]
          },
          "metadata": {},
          "execution_count": 68
        }
      ]
    },
    {
      "cell_type": "code",
      "source": [
        "# 2. values()\n",
        "my_dict = {\"U.P.\" : \"Lucknow\" , \"Rajasthan\" : \"Jaipur\"}\n",
        "list(my_dict.values())"
      ],
      "metadata": {
        "colab": {
          "base_uri": "https://localhost:8080/"
        },
        "id": "yqqfgvOBbE-D",
        "outputId": "ba454550-ad3b-4e31-bd79-aa5c0d252b54"
      },
      "execution_count": null,
      "outputs": [
        {
          "output_type": "execute_result",
          "data": {
            "text/plain": [
              "['Lucknow', 'Jaipur']"
            ]
          },
          "metadata": {},
          "execution_count": 69
        }
      ]
    },
    {
      "cell_type": "code",
      "source": [
        "# 3. Items()\n",
        "my_dict = {\"U.P.\" : \"Luck\" , \"Raj\" : \"Jaipur\"} \n",
        "list(my_dict.items())"
      ],
      "metadata": {
        "colab": {
          "base_uri": "https://localhost:8080/"
        },
        "id": "VVVDqNl5cXKD",
        "outputId": "3f5aa5cf-5f47-4fa2-8168-61a9cef8da88"
      },
      "execution_count": null,
      "outputs": [
        {
          "output_type": "execute_result",
          "data": {
            "text/plain": [
              "[('U.P.', 'Luck'), ('Raj', 'Jaipur')]"
            ]
          },
          "metadata": {},
          "execution_count": 75
        }
      ]
    },
    {
      "cell_type": "code",
      "source": [
        "# 4. Get()\n",
        "my_dict = {\"U.P.\" : \"Luck\" , \"Raj\" : \"Jaipur\"} \n",
        "print(my_dict.get(\"Raj\"))\n",
        "\n",
        "print(my_dict.get(\"H.P.\"))"
      ],
      "metadata": {
        "colab": {
          "base_uri": "https://localhost:8080/"
        },
        "id": "IjV0zoDbdS7U",
        "outputId": "85dd344a-63a4-4a51-c3f3-d1d9b631b25d"
      },
      "execution_count": null,
      "outputs": [
        {
          "output_type": "stream",
          "name": "stdout",
          "text": [
            "Jaipur\n",
            "None\n"
          ]
        }
      ]
    },
    {
      "cell_type": "code",
      "source": [
        "# 5. Update()\n",
        "my_dict = {\"U.P.\" : \"Luck\" , \"Raj\" : \"Jaipur\"} \n",
        "my_dict.update({\"Guj\":\"Ahmda\"})\n",
        "print(my_dict)\n",
        "\n",
        "my_dict = {\"U.P.\" : \"Luck\" , \"Raj\" : \"Jaipur\"} \n",
        "my_dict.update({\"U.P.\":\"Mathura\"})              # help of update function , update the \"values\" of 'keys' \n",
        "print(my_dict)\n",
        "\n",
        "\n",
        "my_dict = {\"U.P.\" : \"Luck\" , \"Raj\" : \"Jaipur\"} \n",
        "my_dict.update({\"Jais\":\"Jaipur\"})             # help of update function , we can not update the \"keys\" of 'values' \n",
        "print(my_dict)"
      ],
      "metadata": {
        "colab": {
          "base_uri": "https://localhost:8080/"
        },
        "id": "CBhEHBC-fEP0",
        "outputId": "5ac2a08a-32a2-4f17-e75b-a1a8cbf7d662"
      },
      "execution_count": null,
      "outputs": [
        {
          "output_type": "stream",
          "name": "stdout",
          "text": [
            "{'U.P.': 'Luck', 'Raj': 'Jaipur', 'Guj': 'Ahmda'}\n",
            "{'U.P.': 'Mathura', 'Raj': 'Jaipur'}\n",
            "{'U.P.': 'Luck', 'Raj': 'Jaipur', 'Jais': 'Jaipur'}\n"
          ]
        }
      ]
    },
    {
      "cell_type": "code",
      "source": [
        "# 6. zip() \n",
        "state_list = [\"UP\" , \"HP\" , \"KAR\"]\n",
        "River_list = [\"Ganga\" , \"Bias\" , \"Krishna\"]\n",
        "print(dict(zip(state_list , River_list)))"
      ],
      "metadata": {
        "colab": {
          "base_uri": "https://localhost:8080/"
        },
        "id": "UHICofs5gcZX",
        "outputId": "25044fcf-8beb-4b67-8e39-7992eb351701"
      },
      "execution_count": null,
      "outputs": [
        {
          "output_type": "stream",
          "name": "stdout",
          "text": [
            "{'UP': 'Ganga', 'HP': 'Bias', 'KAR': 'Krishna'}\n"
          ]
        }
      ]
    },
    {
      "cell_type": "markdown",
      "source": [
        "# Statement❎\n",
        "\n",
        "⚛ Statement is an instruction that python intrepreter is execute.\n",
        "\n",
        "⚛ for , import , if , elif ,assignment \n",
        "\n",
        "\n",
        "\n",
        "▶Expression\n",
        "      ___________         _______________________\n",
        "     |  x = 45   |        |Variable,operator,value| <---Statement \n",
        "     |  print(x) |        |_______________________|  \n",
        "     -------------\n",
        "              ^\n",
        "              |___Expression\n",
        "               \n",
        "          Expression is needed to evaluation\n",
        "\n",
        "▶ Multi-line statement\n",
        "\n",
        "            a,b,c,d = 4,5,6,7\n",
        "\n",
        "\n",
        "▶ IF-Elif-Else Statement \n",
        "\n",
        "                if condition1:\n",
        "                    perform action1\n",
        "\n",
        "                elif condition2:\n",
        "                    perform action2\n",
        "\n",
        "                else:\n",
        "                    perform action3\n",
        "\n",
        "\n",
        "  🔕 Note:- \n",
        "   * \"if\" statement perform action when condition is true\n",
        "   * \"elif\" statement perform action when conditon is true \n",
        "   * \"else\" statement execute when condition of \"if and elif\" statement is false"
      ],
      "metadata": {
        "id": "gFdC8soEkgaZ"
      }
    },
    {
      "cell_type": "code",
      "source": [
        "# Expression \n",
        "x = 45\n",
        "print(x)"
      ],
      "metadata": {
        "colab": {
          "base_uri": "https://localhost:8080/"
        },
        "id": "KU3G-8IsjF__",
        "outputId": "2dfafa8b-2f5a-49a0-c901-846181b76f47"
      },
      "execution_count": null,
      "outputs": [
        {
          "output_type": "stream",
          "name": "stdout",
          "text": [
            "45\n"
          ]
        }
      ]
    },
    {
      "cell_type": "code",
      "source": [
        "# Multi-Line Statement\n",
        " \n",
        "a,b,c,d = 4,5,6,7\n",
        "print(a,b,c,d)"
      ],
      "metadata": {
        "colab": {
          "base_uri": "https://localhost:8080/"
        },
        "id": "fSo46xGWlV8f",
        "outputId": "ea12fed8-8476-42dc-b485-6f617f953a3b"
      },
      "execution_count": null,
      "outputs": [
        {
          "output_type": "stream",
          "name": "stdout",
          "text": [
            "4 5 6 7\n"
          ]
        }
      ]
    },
    {
      "cell_type": "code",
      "source": [
        "# if -elif-else statement \n",
        "\n",
        "x =20 \n",
        "if x==20 :\n",
        "  print(f\"x is {x}\")\n",
        "elif x == 30:\n",
        "  print(f\"x is {x}\")\n",
        "else:\n",
        "  print(x)\n",
        "\n",
        "x =30\n",
        "if x==20 :\n",
        "  print(f\"x is {x}\")\n",
        "elif x == 30:\n",
        "  print(f\"x is {x}\")\n",
        "else:\n",
        "  print(x)"
      ],
      "metadata": {
        "id": "cEzoLK_OmIjH",
        "colab": {
          "base_uri": "https://localhost:8080/"
        },
        "outputId": "9344732d-4527-458b-893a-84e1a8743d90"
      },
      "execution_count": null,
      "outputs": [
        {
          "output_type": "stream",
          "name": "stdout",
          "text": [
            "x is 20\n",
            "x is 30\n"
          ]
        }
      ]
    },
    {
      "cell_type": "code",
      "source": [
        "\n",
        "\n"
      ],
      "metadata": {
        "colab": {
          "base_uri": "https://localhost:8080/"
        },
        "id": "1wv94fOhUh-y",
        "outputId": "57a06254-fd66-4e8a-aa90-b7cfcffa09a1"
      },
      "execution_count": null,
      "outputs": [
        {
          "output_type": "stream",
          "name": "stdout",
          "text": [
            "x is 30\n"
          ]
        }
      ]
    },
    {
      "cell_type": "code",
      "source": [
        "city = \"Jaipur\"\n",
        "if city == \"New Delhi\":\n",
        "  print(\"Welcome to india capital\")\n",
        "elif city == \"Mumbai\":\n",
        "  print(\"Welcome to economic capital if india\")\n",
        "else:\n",
        "  print(\"pink city of india\")\n"
      ],
      "metadata": {
        "colab": {
          "base_uri": "https://localhost:8080/"
        },
        "id": "YmQH-VTsWYAX",
        "outputId": "dae25b79-eac3-46c9-d395-a1bfe33b3090"
      },
      "execution_count": null,
      "outputs": [
        {
          "output_type": "stream",
          "name": "stdout",
          "text": [
            "pink city of india\n"
          ]
        }
      ]
    },
    {
      "cell_type": "code",
      "source": [
        "num1 = 4\n",
        "num2 = -2\n",
        "if num2<0:\n",
        "  if num1<0:\n",
        "    print(num1+num2)\n",
        "  else:\n",
        "    print(\"num1 is positive number\")\n",
        "else:\n",
        "  print(\"num2 is positive number\")"
      ],
      "metadata": {
        "colab": {
          "base_uri": "https://localhost:8080/"
        },
        "id": "zr0imwBLYx61",
        "outputId": "a77fb782-8d2c-4d00-f56e-7251784ac918"
      },
      "execution_count": null,
      "outputs": [
        {
          "output_type": "stream",
          "name": "stdout",
          "text": [
            "num1 is positive number\n"
          ]
        }
      ]
    },
    {
      "cell_type": "code",
      "source": [],
      "metadata": {
        "id": "nISJ2sJMa0Sm"
      },
      "execution_count": null,
      "outputs": []
    },
    {
      "cell_type": "markdown",
      "source": [
        "# Loops And Control\n",
        "\n",
        "Block of code is not use repeatly , so we use loops\n",
        "\n",
        "Types of Loops\n",
        "1. While - work on condition\n",
        "2. For loop - work on iterable(string , list , tuple , set, etc.)\n",
        "\n",
        "\n",
        "▶ Break - this statement break the loop\n",
        "\n",
        "▶ Continue - this statement skip the current iteration\n",
        "\n",
        "▶ Pass - this statement does nothing , only pass the iteration\n",
        "\n",
        "\n",
        "⚛ List Comprehension - This method used to compress the syntax \n",
        "\n",
        "▶ Nested Loop \n",
        "\n",
        "    range() - built in function\n",
        "\n",
        "    renge(start , stop , step size)\n",
        "           |        \\\n",
        "           include   exclude \n",
        "        \n",
        "\n"
      ],
      "metadata": {
        "id": "-YU07qTydX1r"
      }
    },
    {
      "cell_type": "code",
      "source": [
        "# For Loops in String\n",
        "\n",
        "my_city = \"Jaipur\"\n",
        "for i in my_city:\n",
        "  print(i)\n",
        "\n",
        "\n",
        "my_city = \"Jaipur\"\n",
        "for i in my_city[ : : -1]:       # reverse print            [SI : EI : SS]\n",
        "  print(i)\n",
        "\n",
        "my_city = \"Jaipur\"\n",
        "for i in my_city[ : : -2]:\n",
        "  print(i)\n",
        "\n",
        "my_city = \"Jaipur\"\n",
        "for i in my_city[: : -3]:\n",
        "  print(i)"
      ],
      "metadata": {
        "id": "ArZKYNKldsy6"
      },
      "execution_count": null,
      "outputs": []
    },
    {
      "cell_type": "code",
      "source": [
        "#  For Loops in List\n",
        "\n",
        "my_list = [1,2,3,4,5,6,7,8,9]\n",
        "for i in my_list:\n",
        "  print(i)\n",
        "\n",
        "my_list = [1,2,3,4,5,6,7,8,9]\n",
        "for i in my_list:\n",
        "  if i % 2 == 0:                # For even numbers\n",
        "    print(i)\n",
        "\n",
        "my_list = [1,2,3,4,5,6,7,8,9]\n",
        "for i in my_list:\n",
        "  if i % 2 == 1:                # For odd numbers\n",
        "    print(i)\n",
        "\n",
        "\n",
        "my_list = [1,2,3,4,5,6,7,8,9]\n",
        "for i in my_list:\n",
        "  if i % 2 != 0:                # For odd numbers\n",
        "    print(i)\n",
        "\n",
        "\n",
        "# list k element ka sqaure krke unko , list m hi print krvaya \n",
        "list_of_list = [1,2,3,4,5,6,7,8]\n",
        "my_list=[]\n",
        "for num in list_of_list:\n",
        "  square = num **2                # \" num **2 \" or \" num * num \"\n",
        "  my_list.append(square)          # append , last m add krta h \n",
        "print(my_list)\n",
        "\n",
        "\n",
        " \n",
        "list_of_list = [1,2,3,4,5,6,7,8]\n",
        "my_list = []\n",
        "for num in list_of_list:\n",
        "  if num % 2 == 0:\n",
        "    square = num **2\n",
        "    my_list.append(square)\n",
        "print(my_list)\n",
        "\n",
        "\n",
        "list_of_list = [1,2,3,4,5,6,7,8]\n",
        "my_list = []\n",
        "for num in list_of_list:\n",
        "  if num % 2!= 0:\n",
        "    square = num **2\n",
        "    my_list.append(square)\n",
        "print(my_list)\n"
      ],
      "metadata": {
        "id": "ALq1U_Y3dv-6"
      },
      "execution_count": null,
      "outputs": []
    },
    {
      "cell_type": "code",
      "source": [
        "# For Loops in tuple \n",
        "my_tuple = (1,2,3,4,5,6,7,8,9)\n",
        "for i in my_list:\n",
        "  print(i)\n",
        "print(type(my_tuple))"
      ],
      "metadata": {
        "id": "MRuY9O-FdwVc"
      },
      "execution_count": null,
      "outputs": []
    },
    {
      "cell_type": "code",
      "source": [
        "# For Loops in sets \n",
        "my_set = {1,2,3,4,5,6,7,8,9}\n",
        "for i in my_list:\n",
        "  print(i)\n",
        "print(type(my_set))\n",
        "\n"
      ],
      "metadata": {
        "id": "ala6ymcgsMIA"
      },
      "execution_count": null,
      "outputs": []
    },
    {
      "cell_type": "code",
      "source": [],
      "metadata": {
        "id": "hHexeGRxscwR"
      },
      "execution_count": null,
      "outputs": []
    },
    {
      "cell_type": "code",
      "source": [
        "# While Loop\n",
        "\n",
        "x = 0 \n",
        "while x <10:\n",
        "  print(x)\n",
        "  x = x+1\n",
        "\n",
        "# loop se bahar aakr 10 ko print kr dega , because 10 is not less then 10 , so condition are false \n",
        "print(x)"
      ],
      "metadata": {
        "id": "LiEk_27Ns2_x"
      },
      "execution_count": null,
      "outputs": []
    },
    {
      "cell_type": "code",
      "source": [
        "# While loop in List\n",
        "\n",
        "x = 0 \n",
        "my_list = []\n",
        "while x <10:\n",
        "  my_list.append(x)\n",
        "  x+=1\n",
        "print(my_list)"
      ],
      "metadata": {
        "id": "ZOj8CRo_tiML"
      },
      "execution_count": null,
      "outputs": []
    },
    {
      "cell_type": "code",
      "source": [
        "# Break Statement\n",
        "\n",
        "x = 0 \n",
        "while x < 10:\n",
        "  x+=1\n",
        "  if x == 3:\n",
        "    break \n",
        "    print(x)\n",
        "  else:\n",
        "    print(x)"
      ],
      "metadata": {
        "id": "B2vYrj2KtBYk"
      },
      "execution_count": null,
      "outputs": []
    },
    {
      "cell_type": "code",
      "source": [
        "# Continue Statement\n",
        "\n",
        "x = 0 \n",
        "while x < 10:\n",
        "  x+=1\n",
        "  if x == 3:\n",
        "    continue \n",
        "    print(x)\n",
        "  else:\n",
        "    print(x)\n",
        "    "
      ],
      "metadata": {
        "id": "6Ag_GMHAuOne"
      },
      "execution_count": null,
      "outputs": []
    },
    {
      "cell_type": "code",
      "source": [
        "# Pass Statement \n",
        "\n",
        "x = 0 \n",
        "while x < 10:\n",
        "  x+=1\n",
        "  if x == 3:\n",
        "    pass \n",
        "    print(x)\n",
        "  else:\n",
        "    print(x)\n",
        "    \n"
      ],
      "metadata": {
        "id": "aBYpMRvow07E"
      },
      "execution_count": null,
      "outputs": []
    },
    {
      "cell_type": "code",
      "source": [
        "# this method use to compress the Syntax \n",
        "\n",
        "# Before without using List comprehension\n",
        "list_of_list = [1,2,3,4,5]\n",
        "my_list = []\n",
        "for num in list_of_list :\n",
        "  square = num **2\n",
        "  my_list.append(square )\n",
        "print(my_list)\n",
        "\n",
        "\n",
        "# After using List Comprehension \n",
        "list_of_list = [1,2,3,4,5]\n",
        "my_list = [num**2 for num in list_of_list]\n",
        "print(my_list)\n",
        "\n",
        "\n",
        "list_of_list = [1,2,3,4,5]\n",
        "my_list = [num**3 for num in list_of_list]      # for cube \n",
        "print(my_list)\n",
        "\n",
        "\n",
        "list_of_list = [1,2,3,4,5,6,7,8]\n",
        "my_list = [num **2 for num in list_of_list if num%2 ==0]         # for even numbers square in list \n",
        "print(my_list)\n",
        "\n",
        "\n",
        "list_of_list = [1,2,3,4,5,6,7,8]\n",
        "my_list = [num **2 if num%2 ==0 else num **3 for num in list_of_list] # for print the even number \"square\" and left are print the  \"cube\"\n",
        "print(my_list)"
      ],
      "metadata": {
        "id": "pFflZki3yah0"
      },
      "execution_count": null,
      "outputs": []
    },
    {
      "cell_type": "code",
      "source": [
        "# Nested loop \n",
        "for i in range(5):\n",
        "  print(i)\n",
        "\n",
        "\n",
        "list_of_list = []\n",
        "for i in range(4):\n",
        "  for j in range(3):\n",
        "    list_of_list.append(i)     # i = 0           i =1        i =2       i = 3\n",
        "print(list_of_list)            # j = 0 , 1 ,2    j = 0,1,2   j =0,1,2   j =0,1,2 \n",
        "# append \"i\" , that reason output is [0, 0, 0, 1, 1, 1, 2, 2, 2, 3, 3, 3] , because child is complete life is live for one parent iteration \n",
        "\n",
        "\n",
        "\n",
        "list_of_list = []\n",
        "for i in range(4):\n",
        "  for j in range(3):\n",
        "    list_of_list.append(j)         # i = 0           i =1        i =2       i = 3\n",
        "print(list_of_list)                # j = 0 , 1 ,2    j = 0,1,2   j =0,1,2   j =0,1,2 \n",
        " \n",
        "# append \"j\" , that reason output is [0, 1, 2, 0, 1, 2, 0, 1, 2, 0, 1, 2] , because child is complete life is live for one parent iteration\n",
        "\n",
        "\n",
        "\n",
        "# with the help of List Comprehension\n",
        "list_of_list = [i for i in range(4) for j in range(3)]\n",
        "print(list_of_list)\n",
        "\n",
        "\n",
        "\n"
      ],
      "metadata": {
        "id": "mMmsR2Jyz-cK"
      },
      "execution_count": null,
      "outputs": []
    },
    {
      "cell_type": "code",
      "source": [
        "# Split method - this method split the words and give in the form of list \n",
        "my_intro = \"my self jagat, AI and ML trainer\"\n",
        "my_words = my_intro.split(\" \")\n",
        "print(my_words)\n",
        "\n",
        "\n",
        "# string k words ka first chaaracter output aaye list m \n",
        "my_intro = \"my self jagat, AI and ML trainer\"\n",
        "my_words = my_intro.split(\" \")\n",
        "first_letter = []\n",
        "second_letter = []\n",
        "third_letter = []\n",
        "for word in my_words:\n",
        "  first_letter.append(word[0])\n",
        "print(first_letter)\n",
        "\n",
        "for word in my_words:\n",
        "  second_letter.append(word[1])\n",
        "print(second_letter)\n",
        "\n",
        "\n",
        "for word in my_words:\n",
        "  third_letter.append(word[2])           # string index out of range \n",
        "print(third_letter)\n",
        "\n"
      ],
      "metadata": {
        "id": "VOXxDrLqlHFK"
      },
      "execution_count": null,
      "outputs": []
    },
    {
      "cell_type": "code",
      "source": [
        "# with the help of List Comprehension\n",
        "\n",
        "my_intro = \"my self daya AI and ML trainer\"\n",
        "my_words = my_intro.split(\" \")\n",
        "\n",
        "first_letter = [word[0] for word in my_words]\n",
        "print(first_letter)\n",
        "\n",
        "\n",
        "\n",
        "\n",
        "# with the help of set Comprehension \n",
        "\n",
        "my_intro = \"my self daya AI and ML trainer\"\n",
        "my_words = my_intro.split(\" \")\n",
        "\n",
        "first_letter = {word[0] for word in my_words}\n",
        "print(first_letter)\n",
        "\n",
        "\n",
        "# with the help of Dict Comprehension\n",
        "\n",
        "country_city_dict = {\"India\":\"ND\" , \"USA\":\"NY\"}\n",
        "my_dict = {}\n",
        "for country,city in country_city_dict.items():\n",
        "  my_dict[city] = country\n",
        "print(my_dict)\n",
        "\n",
        "\n",
        "country_city = {\"India\" : \"ND\" , \"USA\" : \"NY\"}\n",
        "my_dict = {city:country for country , city in country_city.items()}\n",
        "print(my_dict)\n"
      ],
      "metadata": {
        "id": "GqJsOPmK1tEV"
      },
      "execution_count": null,
      "outputs": []
    },
    {
      "cell_type": "code",
      "source": [
        "\n",
        " \n"
      ],
      "metadata": {
        "id": "MCmaPP1lqL1m"
      },
      "execution_count": null,
      "outputs": []
    },
    {
      "cell_type": "markdown",
      "source": [
        "# Function\n",
        "\n",
        "1. User Defined Function\n",
        "\n",
        "* Work according to user need \n",
        "* Statement of block of codes\n",
        "\n",
        "          Syntax -  def functioname():\n",
        "                       block of code \n",
        "\n",
        "       ↪ doc string represent work of your function\n",
        "\n",
        "       ↪ doc string write in Triple pods \n",
        "\n",
        "2. Anonymous function \n",
        "\n",
        "            Syntax :-  lambda Input : expression \n",
        "                         |\n",
        "                       keyword\n",
        "            \n",
        "            Example - a = lambda x : x**2\n",
        "                      a(4)\n",
        "                      output - 16 \n",
        "\n",
        "\n",
        "3. Map Function - Mapping the two things , function and iterable \n",
        "\n",
        "        map(function , iterable)\n",
        "\n",
        "\n",
        "\n",
        "4. Filter Function - It work only condition \n",
        "\n",
        "          my_list = [1,2,3,4,5,6,7]\n",
        "          list(filter(lambda x : x>3 , my_list))\n",
        "                                  |\n",
        "                                  condition\n",
        "\n",
        "\n",
        "\n",
        " "
      ],
      "metadata": {
        "id": "Jyibq-Rwyyvi"
      }
    },
    {
      "cell_type": "code",
      "source": [
        "# user defined Function \n",
        "\n",
        "def greet():\n",
        "   \n",
        "  result = \"Good Morning Daya\"\n",
        "  return result \n",
        "print(greet())\n",
        "\n",
        "\n",
        "def add ():\n",
        "   \n",
        "  a = int(input(\"enter the num1 : \"))\n",
        "  b = int(input(\"enter the num2 : \"))\n",
        "  result = a+b\n",
        "  return a+b\n",
        "print(add())"
      ],
      "metadata": {
        "colab": {
          "base_uri": "https://localhost:8080/"
        },
        "id": "Dq0moIHmzfId",
        "outputId": "5703298f-bba6-4d66-8262-7eeee1178b9b"
      },
      "execution_count": null,
      "outputs": [
        {
          "output_type": "stream",
          "name": "stdout",
          "text": [
            "Good Morning Daya\n",
            "enter the num1 : 10\n",
            "enter the num2 : 20\n",
            "30\n"
          ]
        }
      ]
    },
    {
      "cell_type": "code",
      "source": [
        "# Positional Argument \n",
        "\n",
        "def calculation(a,b):\n",
        "\n",
        "  print(\"Addition = \" , a+b)\n",
        "  print(\"Substraction = \",a-b)\n",
        "  print(\"Multiplication = \",a*b)\n",
        "  print(\"Division = \" , a/b)\n",
        "calculation(10,5)\n",
        "\n"
      ],
      "metadata": {
        "colab": {
          "base_uri": "https://localhost:8080/"
        },
        "id": "te41VB_Q0gN8",
        "outputId": "b80f614d-0d98-43da-aeb9-55899041b7c9"
      },
      "execution_count": null,
      "outputs": [
        {
          "output_type": "stream",
          "name": "stdout",
          "text": [
            "addition 15\n",
            "substraction 5\n",
            "Multiplication 50\n",
            "Division 100000\n"
          ]
        }
      ]
    },
    {
      "cell_type": "code",
      "source": [
        "# Concept of return\n",
        "\n",
        "def add(a,b):\n",
        "  result = a+b\n",
        "  print(result)\n",
        "  \n",
        "add(10,5)\n",
        "\n",
        "\n",
        "def add(a,b):\n",
        "  result = a+b\n",
        "  print(result)\n",
        "print(add(10,5))   # none show , beacuse we are not \"return any\"\n",
        "\n",
        "\n",
        "def add(a,b):\n",
        "  result = a+b\n",
        "  print(result)\n",
        "  return result\n",
        "print(add(10,5))    # return the result "
      ],
      "metadata": {
        "colab": {
          "base_uri": "https://localhost:8080/"
        },
        "id": "QJMjCkbM3_pc",
        "outputId": "391b41c1-cf3f-48d3-ddf7-999af9f4f499"
      },
      "execution_count": null,
      "outputs": [
        {
          "output_type": "stream",
          "name": "stdout",
          "text": [
            "15\n",
            "15\n",
            "None\n",
            "15\n",
            "15\n"
          ]
        }
      ]
    },
    {
      "cell_type": "code",
      "source": [
        "# Default Argument \n",
        "def add(a , b=10):\n",
        "  result = a + b\n",
        "  return result \n",
        "add(5)       # \"b\" is by default take the value 10 \n",
        "\n",
        "\n",
        "def add (a,b =10):\n",
        "  result = a+b\n",
        "  return result\n",
        "add(5,15)           # in this b are not by default , because we take the value of b is 15\n",
        "\n",
        "\n",
        "'''\n",
        "def add(a,b = 10 , c):      # non-default argument follows default argument\n",
        "  result = a+b+c\n",
        "  print(result)\n",
        "add(10,5)\n",
        "'''\n",
        "\n",
        "def add(a,b = 10 , c = 5):       # when we take default argument ,then after next argument will be default     \n",
        "  result = a+b+c\n",
        "  print(result)\n",
        "add(10)"
      ],
      "metadata": {
        "colab": {
          "base_uri": "https://localhost:8080/"
        },
        "id": "slw1WHL94YBb",
        "outputId": "ca294718-7739-4368-9f09-d577b253f27f"
      },
      "execution_count": null,
      "outputs": [
        {
          "output_type": "stream",
          "name": "stdout",
          "text": [
            "25\n"
          ]
        }
      ]
    },
    {
      "cell_type": "code",
      "source": [
        "# Keyword Argument\n",
        "\n",
        "def interest(p,r,t):\n",
        "  i = (p*r*t)/100\n",
        "  return i\n",
        "interest(5000 , 10 ,2)\n",
        "\n",
        "\n",
        "def interest(p,r,t):\n",
        "  i = (p*r*t)/100\n",
        "  return i\n",
        "interest(t=5000 , p=10 ,r=2)      #   this is a keyword argument , that are automatically find the value of argument sequence ,\n",
        "                                  #   means follw the sequence of given argument "
      ],
      "metadata": {
        "colab": {
          "base_uri": "https://localhost:8080/"
        },
        "id": "HuGtn3Ek6JEg",
        "outputId": "b066db60-e494-48c3-b9f3-5bf85ee3b09b"
      },
      "execution_count": null,
      "outputs": [
        {
          "output_type": "execute_result",
          "data": {
            "text/plain": [
              "1000.0"
            ]
          },
          "metadata": {},
          "execution_count": 60
        }
      ]
    },
    {
      "cell_type": "code",
      "source": [
        "# Extract first letter of sentence\n",
        "def extract_first_letter(sentence):\n",
        "\n",
        "  my_word = sentence.split(\" \")\n",
        "  first_letter = [word[0] for word in my_word]\n",
        "  return first_letter\n",
        "\n",
        "my_intro = \"My self Daya Shanker Saini\"\n",
        "extract_first_letter(my_intro)\n"
      ],
      "metadata": {
        "colab": {
          "base_uri": "https://localhost:8080/"
        },
        "id": "jqPk6VjM8bmu",
        "outputId": "d60a0120-26da-41cc-bfcb-81d388584b13"
      },
      "execution_count": null,
      "outputs": [
        {
          "output_type": "execute_result",
          "data": {
            "text/plain": [
              "['M', 's', 'D', 'S', 'S']"
            ]
          },
          "metadata": {},
          "execution_count": 66
        }
      ]
    },
    {
      "cell_type": "code",
      "source": [
        "# Anonymous Function \n",
        "a = lambda  x : x**2      # lambda is a keyword \n",
        "print(a(4))\n",
        "\n",
        "a = lambda  x : x**2\n",
        "print(a(8))\n",
        "\n",
        "\n",
        "\n",
        "\n",
        "a = lambda x,y : x+y\n",
        "print(a(10,5))"
      ],
      "metadata": {
        "colab": {
          "base_uri": "https://localhost:8080/"
        },
        "id": "SuIBETbq--W_",
        "outputId": "02c1b9f6-f40e-4993-f168-2c52b979a2dd"
      },
      "execution_count": null,
      "outputs": [
        {
          "output_type": "stream",
          "name": "stdout",
          "text": [
            "16\n",
            "64\n",
            "15\n"
          ]
        }
      ]
    },
    {
      "cell_type": "code",
      "source": [
        "# Map Function\n",
        "# map(function , iterable)\n",
        "# 2 cheejo ki mapping krta h \"function and iterable\" ki \n",
        "\n",
        "my_list = [1,2,3,4,5,6,7,8]\n",
        "list(map(lambda x :x**2 , my_list))\n",
        "\n",
        "\n"
      ],
      "metadata": {
        "id": "gucdUb_KBjpZ",
        "colab": {
          "base_uri": "https://localhost:8080/"
        },
        "outputId": "dbab00de-0a92-4fd2-c9ef-df2eb00cccd7"
      },
      "execution_count": null,
      "outputs": [
        {
          "output_type": "execute_result",
          "data": {
            "text/plain": [
              "[1, 4, 9, 16, 25, 36, 49, 64]"
            ]
          },
          "metadata": {},
          "execution_count": 1
        }
      ]
    },
    {
      "cell_type": "code",
      "source": [
        "# Filter Function - kisi condition pr kaam krta h \n",
        "my_list = [1,2,3,4,5,6,7]\n",
        "list(filter(lambda x : x>3 , my_list))   # yha pr condition diya \" x>3 \"\n",
        "\n",
        "\n",
        "\n",
        "# condition k alawa agr or koi bhi action perform krate h tho input ko print kra dega yaaa fir input ko hi output m de dega \n",
        "my_list = [1,2,3,4,5,6,7]\n",
        "list(filter(lambda x : x**2 , my_list))       # yha pr koi condition nhi h \n",
        "\n"
      ],
      "metadata": {
        "colab": {
          "base_uri": "https://localhost:8080/"
        },
        "id": "qauGZxECnu4l",
        "outputId": "756975bf-116a-45ea-859d-772cc79c57ee"
      },
      "execution_count": null,
      "outputs": [
        {
          "output_type": "execute_result",
          "data": {
            "text/plain": [
              "[4, 5, 6, 7]"
            ]
          },
          "metadata": {},
          "execution_count": 2
        }
      ]
    },
    {
      "cell_type": "code",
      "source": [
        "# Functools Function\n",
        "\n",
        "# functools function ek saath reduce krta h given expression ko given iterable k saath \n",
        "\n",
        "import functools \n",
        "my_list = [1,2,3,4,5]\n",
        "functools.reduce (lambda x,y : x+y , my_list)        \n",
        "\n",
        "\n"
      ],
      "metadata": {
        "colab": {
          "base_uri": "https://localhost:8080/"
        },
        "id": "Gse9K8kApXTg",
        "outputId": "f78fdd7a-ffdc-4593-f59a-d9865111cc57"
      },
      "execution_count": null,
      "outputs": [
        {
          "output_type": "execute_result",
          "data": {
            "text/plain": [
              "15"
            ]
          },
          "metadata": {},
          "execution_count": 7
        }
      ]
    },
    {
      "cell_type": "markdown",
      "source": [
        "# Exception  Error \n"
      ],
      "metadata": {
        "id": "qJQJlYXftSFk"
      }
    },
    {
      "cell_type": "code",
      "source": [
        "# Exception and error \n",
        "\n",
        "a = 10 \n",
        "b = 0 \n",
        "c = a/b              # show the - ZeroDivisionError: division by zero\n",
        "print(c)"
      ],
      "metadata": {
        "id": "DxkzzCuxtWqq"
      },
      "execution_count": null,
      "outputs": []
    },
    {
      "cell_type": "code",
      "source": [
        "try :\n",
        "  a = 10\n",
        "  b = 0\n",
        "  c = a/b \n",
        "  print(c)\n",
        "except ZeroDivisionError:          # isme error pta krke us error ko likh rhe h \n",
        "  print(\"Division by zero not allowed\")\n",
        "\n",
        "\n",
        "\n",
        "# try block m error aayega tb hi except block m jaayega , otherwise try block k code ko execute kr dega \n",
        "try :\n",
        "  a = 10\n",
        "  b = 5\n",
        "  c = a/b \n",
        "  print(c)\n",
        "except ZeroDivisionError:\n",
        "  print(\"Division by zero not allowed\")\n"
      ],
      "metadata": {
        "colab": {
          "base_uri": "https://localhost:8080/"
        },
        "id": "TP0YUC5Gun0T",
        "outputId": "63d5136f-8a8c-4bd2-b7ed-f13207a02403"
      },
      "execution_count": null,
      "outputs": [
        {
          "output_type": "stream",
          "name": "stdout",
          "text": [
            "Division by zero not allowed\n"
          ]
        }
      ]
    },
    {
      "cell_type": "code",
      "source": [
        "try :\n",
        "  a = 10\n",
        "  b = 0\n",
        "  c = a/b \n",
        "  print(c)\n",
        "except Exception as obj:          # it show the what error comes  , isme error ko pta kr rhe h \n",
        "  print(obj)\n",
        "\n",
        "\n",
        "\n",
        "\n",
        "try :\n",
        "  a = 10\n",
        "  b = 0\n",
        "  c = a/g\n",
        "  print(c)\n",
        "except Exception as obj:          \n",
        "  print(obj)"
      ],
      "metadata": {
        "colab": {
          "base_uri": "https://localhost:8080/"
        },
        "id": "fcMyVGT0pcT-",
        "outputId": "d316d6c5-c5a3-4dbe-9809-0d1ecaacf6c0"
      },
      "execution_count": null,
      "outputs": [
        {
          "output_type": "stream",
          "name": "stdout",
          "text": [
            "division by zero\n",
            "name 'g' is not defined\n"
          ]
        }
      ]
    },
    {
      "cell_type": "code",
      "source": [
        "try:\n",
        "  a = 10 \n",
        "  b = 5 \n",
        "  c = a/b\n",
        "  print(c)\n",
        "except Exception as obj:\n",
        "  print(obj)\n",
        "\n",
        "else:\n",
        "  print(\"Inside Else\")\n",
        "finally:\n",
        "  print(\"Topic error and exception\")\n",
        "\n",
        "# isme Except block kaam nhi kr rha , because of in try block \"not error found \" and directly excute the else and finally block \n",
        "\n"
      ],
      "metadata": {
        "colab": {
          "base_uri": "https://localhost:8080/"
        },
        "id": "viLWWHu_vrB5",
        "outputId": "3d95d7c9-da64-499c-f119-c8f93810234f"
      },
      "execution_count": null,
      "outputs": [
        {
          "output_type": "stream",
          "name": "stdout",
          "text": [
            "2.0\n",
            "Inside Else\n",
            "Topic error and exception\n"
          ]
        }
      ]
    },
    {
      "cell_type": "code",
      "source": [],
      "metadata": {
        "id": "K14TXDIbx4n2"
      },
      "execution_count": null,
      "outputs": []
    },
    {
      "cell_type": "markdown",
      "source": [
        "# Library\n",
        "\n",
        "Instruction + variable = Function\n",
        "\n",
        "collection of function = Modules\n",
        "\n",
        "Collection of Modules = Packages \n",
        "\n",
        "Collection of Packages = Libraries \n",
        "\n",
        "\n",
        "\n",
        "⏩Numpy(Numerical Python) :-Library of python\n",
        "\n",
        "Multi-Dimensional Array compare to list \n",
        "  1. Less memory\n",
        "  2. Better Functionality\n",
        "  3. Better Performance"
      ],
      "metadata": {
        "id": "mbSsW7G6zbTR"
      }
    },
    {
      "cell_type": "code",
      "source": [
        "# One-Dimensional array \n",
        "import numpy as np\n",
        "oned_array = np.array([1,2,3,4])      \n",
        "print(oned_array)\n",
        "oned_array\n",
        "\n",
        "\n"
      ],
      "metadata": {
        "id": "8JzFYp-nzxog",
        "colab": {
          "base_uri": "https://localhost:8080/"
        },
        "outputId": "72bfa14d-f595-4437-e176-a1c3b0fccbaf"
      },
      "execution_count": null,
      "outputs": [
        {
          "output_type": "stream",
          "name": "stdout",
          "text": [
            "[1 2 3 4]\n"
          ]
        },
        {
          "output_type": "execute_result",
          "data": {
            "text/plain": [
              "array([1, 2, 3, 4])"
            ]
          },
          "metadata": {},
          "execution_count": 2
        }
      ]
    },
    {
      "cell_type": "code",
      "source": [
        "# Two-dimensional array \n",
        "import numpy as np\n",
        "twod_array = np.array([[1,2,3,4] , [5,6,7,8]])      \n",
        "print(twod_array)\n",
        "print(twod_array.shape)\n",
        "\n",
        "twod_array"
      ],
      "metadata": {
        "id": "Z2tPNTFH2ykB"
      },
      "execution_count": null,
      "outputs": []
    },
    {
      "cell_type": "code",
      "source": [
        "# Three-Dimensional Array\n",
        "import numpy as np\n",
        "threed_array = np.array([[[1,2,3,4] ,[5,6,7,8]],[[9,10,11,12],[13,14,15,16]]])\n",
        "print(threed_array)\n",
        "print(threed_array.shape)\n",
        "\n",
        "\n"
      ],
      "metadata": {
        "id": "P0dViwnI95mF"
      },
      "execution_count": null,
      "outputs": []
    },
    {
      "cell_type": "code",
      "source": [
        "\n",
        "\n",
        "# N-Dimensional Array\n",
        "import numpy as np\n",
        "ndim_array = np.array([[[1,2,3,4],[5,6,7,8]] , [[9,10,11,12],[13,14,15,16]]])\n",
        "print(ndim_array.ndim)"
      ],
      "metadata": {
        "colab": {
          "base_uri": "https://localhost:8080/"
        },
        "id": "GWnsXnvMAUV3",
        "outputId": "f7b0dde7-c09a-490b-8fee-d75fb91cca47"
      },
      "execution_count": null,
      "outputs": [
        {
          "output_type": "stream",
          "name": "stdout",
          "text": [
            "3\n"
          ]
        }
      ]
    },
    {
      "cell_type": "code",
      "source": [
        "# Size - represent number of item in array\n",
        "import numpy as np\n",
        "x = np.array([[[1,2,3,4],[5,6,7,8]] , [[9,10,11,12],[13,14,15,16]]])\n",
        "print(x.size)"
      ],
      "metadata": {
        "colab": {
          "base_uri": "https://localhost:8080/"
        },
        "id": "BrxZxD0fAxz3",
        "outputId": "f87ac171-acee-4e5a-ecdb-e1dcde9032c9"
      },
      "execution_count": null,
      "outputs": [
        {
          "output_type": "stream",
          "name": "stdout",
          "text": [
            "16\n"
          ]
        }
      ]
    },
    {
      "cell_type": "code",
      "source": [
        "# Dtype - Return the data type of array\n",
        "import numpy as np\n",
        "x = np.array([[[1,2,3,4],[5,6,7,8]] , [[9,10,11,12],[13,14,15,16]]])\n",
        "print(x.dtype)"
      ],
      "metadata": {
        "id": "LBF-d-ZeD4Tv"
      },
      "execution_count": null,
      "outputs": []
    },
    {
      "cell_type": "code",
      "source": [
        "# astype - change the type of data\n",
        "import numpy as np\n",
        "x = np.array([[[1,2,3,4],[5,6,7,8]] , [[9,10,11,12],[13,14,15,16]]])\n",
        "y=x.astype(\"float64\")\n",
        "print(y)"
      ],
      "metadata": {
        "id": "3s5euF1iFgbL"
      },
      "execution_count": null,
      "outputs": []
    },
    {
      "cell_type": "code",
      "source": [
        "# check the size without array \n",
        "import numpy as np\n",
        "import sys\n",
        "s = [0,1,2,3,4,5,6,7,8,9]\n",
        "print(\"one item memory\", sys.getsizeof(s))\n",
        "print(\"list of memory\", sys.getsizeof(s)*len(s))"
      ],
      "metadata": {
        "colab": {
          "base_uri": "https://localhost:8080/"
        },
        "id": "ZHVt54r6GMYz",
        "outputId": "49c73ccc-777f-4797-c40e-cb82b8b63e2d"
      },
      "execution_count": null,
      "outputs": [
        {
          "output_type": "stream",
          "name": "stdout",
          "text": [
            "one item memory 136\n",
            "list of memory 1360\n"
          ]
        }
      ]
    },
    {
      "cell_type": "code",
      "source": [
        "# check the sixze with array \n",
        "import numpy as np\n",
        "import sys\n",
        "s = [0,1,2,3,4,5,6,7,8,9]\n",
        "x = np.array(s)          # \"s\" ko array bna diya \n",
        "\n",
        "print(\"size of item \", x.itemsize)\n",
        "print(\"size of array\" , x.size * x.itemsize)\n",
        "\n",
        "\n",
        "# So array are less memory consume "
      ],
      "metadata": {
        "colab": {
          "base_uri": "https://localhost:8080/"
        },
        "id": "kb1iaXQCHR6o",
        "outputId": "afe8bb54-f3a6-4d0f-c327-98a8740f0da5"
      },
      "execution_count": null,
      "outputs": [
        {
          "output_type": "stream",
          "name": "stdout",
          "text": [
            "size of item  8\n",
            "size of array 80\n"
          ]
        }
      ]
    },
    {
      "cell_type": "code",
      "source": [
        "# Check functionality -  Because why are use of array \n",
        "\n",
        "ls = [1,2,3]\n",
        "try:\n",
        "  list = ls + 4\n",
        "  print(list)\n",
        "except Exception as obj:\n",
        "  print(obj)\n",
        "\n",
        "try:\n",
        "  x = np.array(ls)\n",
        "  y = x+4\n",
        "  print(y)\n",
        "except Exception as obj:\n",
        "  print(obj) \n",
        "\n",
        "\n",
        "# Functionality of array is better comparison to List , because we add an integer to array but not add integer in list \n",
        "# only list ko hi add kr skte h  list m \n",
        "# array k andr , list m integer add kr skte h , jbki list m add nhi kr skte  "
      ],
      "metadata": {
        "colab": {
          "base_uri": "https://localhost:8080/"
        },
        "id": "feKBtjJOIuo8",
        "outputId": "dd2d0e40-96f6-4fc5-e481-ea156a32a258"
      },
      "execution_count": null,
      "outputs": [
        {
          "output_type": "stream",
          "name": "stdout",
          "text": [
            "can only concatenate list (not \"int\") to list\n",
            "[5 6 7]\n"
          ]
        }
      ]
    },
    {
      "cell_type": "code",
      "source": [
        "# Array initialize with zeros\n",
        "import numpy as np\n",
        "zeros_array = np.zeros((3,3))     # by default data is float \n",
        "print(zeros_array)\n",
        "\n",
        "\n",
        "import numpy as np\n",
        "zeros_array = np.zeros((3,3) , dtype = int )    # data is in  int \n",
        "print(zeros_array)"
      ],
      "metadata": {
        "id": "fZCDum3bJ5jm"
      },
      "execution_count": null,
      "outputs": []
    },
    {
      "cell_type": "code",
      "source": [
        "# Array  initialize with ones\n",
        "import numpy as np\n",
        "ones_array = np.ones((3,3))     # by default data is float \n",
        "print(ones_array)\n",
        "\n",
        "import numpy as np\n",
        "ones_array = np.ones((3,3) , dtype = int)     #  data is in integer \n",
        "print(ones_array)\n",
        "\n",
        "\n",
        "\n"
      ],
      "metadata": {
        "id": "rzeggD6UgPHA"
      },
      "execution_count": null,
      "outputs": []
    },
    {
      "cell_type": "code",
      "source": [
        "import numpy as np\n",
        "ones_array = np.ones((8,9,10) , dtype = int)   \n",
        "print(ones_array)"
      ],
      "metadata": {
        "id": "87gzk_2rhjKk"
      },
      "execution_count": null,
      "outputs": []
    },
    {
      "cell_type": "code",
      "source": [
        "# arange(Start , Stop , StepSize , dtype)\n",
        "\n",
        "arange_array = np.arange(1,9,2 )\n",
        "print(arange_array)\n",
        "\n",
        "arange_array = np.arange(1,9,2,float )\n",
        "print(arange_array)\n",
        "\n",
        "arange_array = np.arange(1,9,2  ,None)\n",
        "print(arange_array)\n",
        "\n",
        "\n",
        "arange_array = np.arange(1,9,1 )      # stopping is not include\n",
        "print(arange_array)\n"
      ],
      "metadata": {
        "colab": {
          "base_uri": "https://localhost:8080/"
        },
        "id": "JOWN1VJPifzC",
        "outputId": "62157b18-d3c8-47e6-fbe4-bcd2d2a486ed"
      },
      "execution_count": null,
      "outputs": [
        {
          "output_type": "stream",
          "name": "stdout",
          "text": [
            "[1 3 5 7]\n",
            "[1. 3. 5. 7.]\n",
            "[1 3 5 7]\n",
            "[1 2 3 4 5 6 7 8]\n"
          ]
        }
      ]
    },
    {
      "cell_type": "code",
      "source": [
        "# linspace(Start , Stop , num , endpoint , retstep)\n",
        "# data are separable linearly \n",
        "\n",
        "my_array = np.linspace(10,20,10,endpoint = True , retstep = True)\n",
        "print(my_array)\n",
        "\n",
        "\n",
        "\n"
      ],
      "metadata": {
        "id": "gDO3vlaZjCsL"
      },
      "execution_count": null,
      "outputs": []
    },
    {
      "cell_type": "code",
      "source": [
        "my_array = np.linspace(10,20,10,endpoint = True , retstep = False)\n",
        "print(my_array)\n",
        "\n",
        "# retstep = 1.1111111111111112"
      ],
      "metadata": {
        "colab": {
          "base_uri": "https://localhost:8080/"
        },
        "id": "V0LsL2rilHff",
        "outputId": "602694da-397e-4a48-f97f-5e7cdc8a624b"
      },
      "execution_count": null,
      "outputs": [
        {
          "output_type": "stream",
          "name": "stdout",
          "text": [
            "[10.         11.11111111 12.22222222 13.33333333 14.44444444 15.55555556\n",
            " 16.66666667 17.77777778 18.88888889 20.        ]\n"
          ]
        }
      ]
    },
    {
      "cell_type": "code",
      "source": [
        "my_array = np.linspace(10,20,10,endpoint = False , retstep = True)\n",
        "print(my_array)\n",
        "\n",
        "# retstep = 1.0"
      ],
      "metadata": {
        "colab": {
          "base_uri": "https://localhost:8080/"
        },
        "id": "FtyA5y5ll960",
        "outputId": "acce57db-730d-45d7-f92a-71a790175d19"
      },
      "execution_count": null,
      "outputs": [
        {
          "output_type": "stream",
          "name": "stdout",
          "text": [
            "(array([10., 11., 12., 13., 14., 15., 16., 17., 18., 19.]), 1.0)\n"
          ]
        }
      ]
    },
    {
      "cell_type": "code",
      "source": [
        "my_array = np.linspace(10,20,10,endpoint = False , retstep = False)\n",
        "print(my_array)"
      ],
      "metadata": {
        "id": "rUlMhMNOmQ45"
      },
      "execution_count": null,
      "outputs": []
    },
    {
      "cell_type": "code",
      "source": [
        "\n",
        "# Array With random number \n",
        "\n",
        "my_array = np.random.random((4,3)) # data type are always \"float\"\n",
        "print(my_array)\n",
        "\n",
        "\n",
        "\n"
      ],
      "metadata": {
        "id": "jS1qzx9KmgZJ"
      },
      "execution_count": null,
      "outputs": []
    },
    {
      "cell_type": "code",
      "source": [
        "my_array = np.random.random((4,3)) # data type are always \"float\"\n",
        "print(my_array)\n"
      ],
      "metadata": {
        "id": "X4_nzmBtn0IV"
      },
      "execution_count": null,
      "outputs": []
    },
    {
      "cell_type": "code",
      "source": [
        "my_array = np.random.randint(0,6,(4,3)) \n",
        "print(my_array)\n",
        "\n",
        "# 0 :- Start   ,  6 :- Stop   , (4,3) :- Shape"
      ],
      "metadata": {
        "id": "lYrK5fUNn_2j"
      },
      "execution_count": null,
      "outputs": []
    },
    {
      "cell_type": "code",
      "source": [
        "my_array = np.full((4,3) , 49 )   # by default data type are \"integer\"\n",
        "print(my_array)\n",
        "\n",
        "\n",
        "\n",
        "my_array = np.full((4,3) , 49  , dtype = float)    \n",
        "print(my_array)"
      ],
      "metadata": {
        "id": "_WLqRgS7tsrV"
      },
      "execution_count": null,
      "outputs": []
    },
    {
      "cell_type": "code",
      "source": [
        "# Indexing Of Array \n",
        "\n",
        "# Three-D Array\n",
        "\n",
        "x = np.array([[[1,2,3,4] ,[5,6,7,8]],[[9,10,11,12],[13,14,15,16]]])\n",
        "\n",
        "print(x[1,1,1])    # this is 3-dimensional array , so we can give 3 argument . like as x[1,1,1] \n",
        "\n",
        "                    # agr 2-dimensional array hota tho  2 argument dene pdte , one hota tho one argument dena pdta\n",
        "\n",
        "\n",
        "\n",
        "\n",
        "y = np.array([[[1,2,3] , [4,5,6]],\n",
        "              [[7,8,9] , [10,11,12]],\n",
        "              [[13,14,15] , [16,17,18]]])\n",
        "print(y[1,1,1])\n",
        "\n"
      ],
      "metadata": {
        "id": "gQhT1mNpu4Kw"
      },
      "execution_count": null,
      "outputs": []
    },
    {
      "cell_type": "code",
      "source": [
        "y = np.array([[[1,2,3] , [4,5,6]],\n",
        "              [[7,8,9] , [10,11,12]],\n",
        "              [[13,14,15] , [16,17,18]]])\n",
        "print(y[0:2 , 0:1 , 0:2])"
      ],
      "metadata": {
        "id": "AelOWqdQwfsy"
      },
      "execution_count": null,
      "outputs": []
    },
    {
      "cell_type": "code",
      "source": [
        "# Transpose - how to transpose array in machine learning \n",
        "\n",
        "my_array = np.random.randint(0,8,(3,4))\n",
        "print(my_array)\n",
        "print(my_array.shape)\n",
        "\n",
        "x = np.transpose(my_array)\n",
        "print(x)\n",
        "print(x.shape)"
      ],
      "metadata": {
        "id": "V0TtPwlPz-pI"
      },
      "execution_count": null,
      "outputs": []
    },
    {
      "cell_type": "code",
      "source": [
        "my_array = np.random.randint(0,8,(3,4))\n",
        "print(my_array)\n",
        "\n",
        "\n",
        "x = np.transpose(my_array)\n",
        "print(x)\n",
        "\n",
        "# it transpose the \"row\" into \"column\"  && \"column\" into \"row\" .\n",
        " "
      ],
      "metadata": {
        "id": "AyZ-16D11oGC"
      },
      "execution_count": null,
      "outputs": []
    },
    {
      "cell_type": "code",
      "source": [
        "array = np.random.randint(0,8,(8,3))\n",
        "print(array)\n",
        "\n",
        "reshape_array = np.reshape(array,(2,3,4))\n",
        "print(reshape_array)\n",
        "\n",
        "# multiple of \"array\" and \"reshape_array\" are same , because number of \"items\" are not change"
      ],
      "metadata": {
        "id": "MYy_kLhX2IFq"
      },
      "execution_count": null,
      "outputs": []
    },
    {
      "cell_type": "code",
      "source": [
        "array = np.random.randint(0,8,(8,2))          # yha pr multiple (8,2) ka 16 h \n",
        "print(array)\n",
        "\n",
        "reshape_array = np.reshape(array,(2,3,4))     # yha pr multiple (2,3,4) ka 24 h \n",
        "print(reshape_array)\n",
        "# jbki dono ka multiple same hona chaiye , kyoki number of items change nhi hote \n",
        "# Error: cannot reshape array of size 16 into shape (2,3,4)"
      ],
      "metadata": {
        "id": "NG4WVv0p2_wA"
      },
      "execution_count": null,
      "outputs": []
    },
    {
      "cell_type": "code",
      "source": [
        "# Re-Size the array\n",
        "\n",
        "array = np.random.randint(0,8,(8,3))\n",
        "print(array)\n",
        "\n",
        "resize_array = np.resize(array,(2,4,4))   # number of element is change \n",
        "print(resize_array)"
      ],
      "metadata": {
        "colab": {
          "base_uri": "https://localhost:8080/"
        },
        "id": "M8pn26fz30Qj",
        "outputId": "860eb99a-7351-4d3b-9c5d-b00255f4c073"
      },
      "execution_count": null,
      "outputs": [
        {
          "output_type": "stream",
          "name": "stdout",
          "text": [
            "[[4 1 3]\n",
            " [5 7 3]\n",
            " [2 5 2]\n",
            " [5 1 0]\n",
            " [4 2 4]\n",
            " [5 2 6]\n",
            " [0 6 7]\n",
            " [3 2 4]]\n",
            "[[[4 1 3 5]\n",
            "  [7 3 2 5]\n",
            "  [2 5 1 0]\n",
            "  [4 2 4 5]]\n",
            "\n",
            " [[2 6 0 6]\n",
            "  [7 3 2 4]\n",
            "  [4 1 3 5]\n",
            "  [7 3 2 5]]]\n"
          ]
        }
      ]
    },
    {
      "cell_type": "code",
      "source": [
        "# Complete(2,3,4,5,6,7,8,9,10......) array ko One-D m convert krna ho tho\n",
        "\n",
        "array = np.random.randint(0,8,(8,3))\n",
        "print(array)\n",
        "\n",
        "resize_array = np.resize(array,(2,4,4))  \n",
        "print(resize_array.flatten())\n",
        "\n",
        "# number of item cannot be changed"
      ],
      "metadata": {
        "colab": {
          "base_uri": "https://localhost:8080/"
        },
        "id": "NILVFu6N5aeT",
        "outputId": "fd7298b8-56d6-4482-ac9f-fab649a6f93b"
      },
      "execution_count": null,
      "outputs": [
        {
          "output_type": "stream",
          "name": "stdout",
          "text": [
            "[[0 1 4]\n",
            " [5 7 6]\n",
            " [6 7 4]\n",
            " [6 0 6]\n",
            " [5 7 6]\n",
            " [5 0 3]\n",
            " [0 7 0]\n",
            " [7 2 0]]\n",
            "[0 1 4 5 7 6 6 7 4 6 0 6 5 7 6 5 0 3 0 7 0 7 2 0 0 1 4 5 7 6 6 7]\n"
          ]
        }
      ]
    },
    {
      "cell_type": "code",
      "source": [],
      "metadata": {
        "id": "UMj3g4Vx6WH4"
      },
      "execution_count": null,
      "outputs": []
    }
  ]
}